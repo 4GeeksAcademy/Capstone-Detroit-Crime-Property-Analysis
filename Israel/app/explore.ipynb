{
 "cells": [
  {
   "cell_type": "code",
   "execution_count": 1,
   "metadata": {},
   "outputs": [],
   "source": [
    "import pandas as pd\n"
   ]
  },
  {
   "cell_type": "code",
   "execution_count": 59,
   "metadata": {},
   "outputs": [
    {
     "name": "stdout",
     "output_type": "stream",
     "text": [
      "                   Neighborhood\n",
      "0      neighborhood_ALBANY PARK\n",
      "1   neighborhood_ARCHER HEIGHTS\n",
      "2    neighborhood_ARMOUR SQUARE\n",
      "3          neighborhood_ASHBURN\n",
      "4   neighborhood_AUBURN GRESHAM\n",
      "..                          ...\n",
      "72       neighborhood_WEST LAWN\n",
      "73    neighborhood_WEST PULLMAN\n",
      "74      neighborhood_WEST RIDGE\n",
      "75       neighborhood_WEST TOWN\n",
      "76        neighborhood_WOODLAWN\n",
      "\n",
      "[77 rows x 1 columns]\n"
     ]
    }
   ],
   "source": [
    "NB_file_path = r'C:\\Data Science\\chicago-crime-property-analysis\\Israel\\app\\neighborhoods.txt'\n",
    "\n",
    "neighborhoods = pd.read_csv(NB_file_path, header=None)\n",
    "neighborhoods = neighborhoods.rename(columns={0: 'Neighborhood'})\n",
    "neighborhoods = neighborhoods.drop(columns=1)\n",
    "\n",
    "print(neighborhoods)"
   ]
  },
  {
   "cell_type": "code",
   "execution_count": 61,
   "metadata": {},
   "outputs": [
    {
     "name": "stdout",
     "output_type": "stream",
     "text": [
      "{0: {'Neighborhood': 'neighborhood_ALBANY PARK'}, 1: {'Neighborhood': 'neighborhood_ARCHER HEIGHTS'}, 2: {'Neighborhood': 'neighborhood_ARMOUR SQUARE'}, 3: {'Neighborhood': 'neighborhood_ASHBURN'}, 4: {'Neighborhood': 'neighborhood_AUBURN GRESHAM'}, 5: {'Neighborhood': 'neighborhood_AUSTIN'}, 6: {'Neighborhood': 'neighborhood_AVALON PARK'}, 7: {'Neighborhood': 'neighborhood_AVONDALE'}, 8: {'Neighborhood': 'neighborhood_BELMONT CRAGIN'}, 9: {'Neighborhood': 'neighborhood_BEVERLY'}, 10: {'Neighborhood': 'neighborhood_BRIDGEPORT'}, 11: {'Neighborhood': 'neighborhood_BRIGHTON PARK'}, 12: {'Neighborhood': 'neighborhood_BURNSIDE'}, 13: {'Neighborhood': 'neighborhood_CALUMET HEIGHTS'}, 14: {'Neighborhood': 'neighborhood_CHATHAM'}, 15: {'Neighborhood': 'neighborhood_CHICAGO LAWN'}, 16: {'Neighborhood': 'neighborhood_CLEARING'}, 17: {'Neighborhood': 'neighborhood_DOUGLAS'}, 18: {'Neighborhood': 'neighborhood_DUNNING'}, 19: {'Neighborhood': 'neighborhood_EAST GARFIELD PARK'}, 20: {'Neighborhood': 'neighborhood_EAST SIDE'}, 21: {'Neighborhood': 'neighborhood_EDGEWATER'}, 22: {'Neighborhood': 'neighborhood_EDISON PARK'}, 23: {'Neighborhood': 'neighborhood_ENGLEWOOD'}, 24: {'Neighborhood': 'neighborhood_FOREST GLEN'}, 25: {'Neighborhood': 'neighborhood_FULLER PARK'}, 26: {'Neighborhood': 'neighborhood_GAGE PARK'}, 27: {'Neighborhood': 'neighborhood_GARFIELD RIDGE'}, 28: {'Neighborhood': 'neighborhood_GRAND BOULEVARD'}, 29: {'Neighborhood': 'neighborhood_GREATER GRAND CROSSING'}, 30: {'Neighborhood': 'neighborhood_HEGEWISCH'}, 31: {'Neighborhood': 'neighborhood_HERMOSA'}, 32: {'Neighborhood': 'neighborhood_HUMBOLDT PARK'}, 33: {'Neighborhood': 'neighborhood_HYDE PARK'}, 34: {'Neighborhood': 'neighborhood_IRVING PARK'}, 35: {'Neighborhood': 'neighborhood_JEFFERSON PARK'}, 36: {'Neighborhood': 'neighborhood_KENWOOD'}, 37: {'Neighborhood': 'neighborhood_LAKE VIEW'}, 38: {'Neighborhood': 'neighborhood_LINCOLN PARK'}, 39: {'Neighborhood': 'neighborhood_LINCOLN SQUARE'}, 40: {'Neighborhood': 'neighborhood_LOGAN SQUARE'}, 41: {'Neighborhood': 'neighborhood_LOOP'}, 42: {'Neighborhood': 'neighborhood_LOWER WEST SIDE'}, 43: {'Neighborhood': 'neighborhood_MCKINLEY PARK'}, 44: {'Neighborhood': 'neighborhood_MONTCLARE'}, 45: {'Neighborhood': 'neighborhood_MORGAN PARK'}, 46: {'Neighborhood': 'neighborhood_MOUNT GREENWOOD'}, 47: {'Neighborhood': 'neighborhood_NEAR NORTH SIDE'}, 48: {'Neighborhood': 'neighborhood_NEAR SOUTH SIDE'}, 49: {'Neighborhood': 'neighborhood_NEAR WEST SIDE'}, 50: {'Neighborhood': 'neighborhood_NEW CITY'}, 51: {'Neighborhood': 'neighborhood_NORTH CENTER'}, 52: {'Neighborhood': 'neighborhood_NORTH LAWNDALE'}, 53: {'Neighborhood': 'neighborhood_NORTH PARK'}, 54: {'Neighborhood': 'neighborhood_NORWOOD PARK'}, 55: {'Neighborhood': 'neighborhood_OAKLAND'}, 56: {'Neighborhood': 'neighborhood_OHARE'}, 57: {'Neighborhood': 'neighborhood_PORTAGE PARK'}, 58: {'Neighborhood': 'neighborhood_PULLMAN'}, 59: {'Neighborhood': 'neighborhood_RIVERDALE'}, 60: {'Neighborhood': 'neighborhood_ROGERS PARK'}, 61: {'Neighborhood': 'neighborhood_ROSELAND'}, 62: {'Neighborhood': 'neighborhood_SOUTH CHICAGO'}, 63: {'Neighborhood': 'neighborhood_SOUTH DEERING'}, 64: {'Neighborhood': 'neighborhood_SOUTH LAWNDALE'}, 65: {'Neighborhood': 'neighborhood_SOUTH SHORE'}, 66: {'Neighborhood': 'neighborhood_UPTOWN'}, 67: {'Neighborhood': 'neighborhood_WASHINGTON HEIGHTS'}, 68: {'Neighborhood': 'neighborhood_WASHINGTON PARK'}, 69: {'Neighborhood': 'neighborhood_WEST ELSDON'}, 70: {'Neighborhood': 'neighborhood_WEST ENGLEWOOD'}, 71: {'Neighborhood': 'neighborhood_WEST GARFIELD PARK'}, 72: {'Neighborhood': 'neighborhood_WEST LAWN'}, 73: {'Neighborhood': 'neighborhood_WEST PULLMAN'}, 74: {'Neighborhood': 'neighborhood_WEST RIDGE'}, 75: {'Neighborhood': 'neighborhood_WEST TOWN'}, 76: {'Neighborhood': 'neighborhood_WOODLAWN'}}\n"
     ]
    }
   ],
   "source": [
    "neighborhood_dict = neighborhoods.to_dict(orient='index')\n",
    "\n",
    "print(neighborhood_dict)"
   ]
  },
  {
   "cell_type": "code",
   "execution_count": 62,
   "metadata": {},
   "outputs": [],
   "source": [
    "neighborhood_select = pd.DataFrame({\n",
    "    'Neighborhood': neighborhoods['Neighborhood'],\n",
    "    'bool': 0\n",
    "})"
   ]
  },
  {
   "cell_type": "code",
   "execution_count": 63,
   "metadata": {},
   "outputs": [
    {
     "data": {
      "text/html": [
       "<div>\n",
       "<style scoped>\n",
       "    .dataframe tbody tr th:only-of-type {\n",
       "        vertical-align: middle;\n",
       "    }\n",
       "\n",
       "    .dataframe tbody tr th {\n",
       "        vertical-align: top;\n",
       "    }\n",
       "\n",
       "    .dataframe thead th {\n",
       "        text-align: right;\n",
       "    }\n",
       "</style>\n",
       "<table border=\"1\" class=\"dataframe\">\n",
       "  <thead>\n",
       "    <tr style=\"text-align: right;\">\n",
       "      <th></th>\n",
       "      <th>Neighborhood</th>\n",
       "      <th>bool</th>\n",
       "    </tr>\n",
       "  </thead>\n",
       "  <tbody>\n",
       "    <tr>\n",
       "      <th>0</th>\n",
       "      <td>neighborhood_ALBANY PARK</td>\n",
       "      <td>0</td>\n",
       "    </tr>\n",
       "    <tr>\n",
       "      <th>1</th>\n",
       "      <td>neighborhood_ARCHER HEIGHTS</td>\n",
       "      <td>0</td>\n",
       "    </tr>\n",
       "    <tr>\n",
       "      <th>2</th>\n",
       "      <td>neighborhood_ARMOUR SQUARE</td>\n",
       "      <td>0</td>\n",
       "    </tr>\n",
       "    <tr>\n",
       "      <th>3</th>\n",
       "      <td>neighborhood_ASHBURN</td>\n",
       "      <td>0</td>\n",
       "    </tr>\n",
       "    <tr>\n",
       "      <th>4</th>\n",
       "      <td>neighborhood_AUBURN GRESHAM</td>\n",
       "      <td>0</td>\n",
       "    </tr>\n",
       "    <tr>\n",
       "      <th>...</th>\n",
       "      <td>...</td>\n",
       "      <td>...</td>\n",
       "    </tr>\n",
       "    <tr>\n",
       "      <th>72</th>\n",
       "      <td>neighborhood_WEST LAWN</td>\n",
       "      <td>0</td>\n",
       "    </tr>\n",
       "    <tr>\n",
       "      <th>73</th>\n",
       "      <td>neighborhood_WEST PULLMAN</td>\n",
       "      <td>0</td>\n",
       "    </tr>\n",
       "    <tr>\n",
       "      <th>74</th>\n",
       "      <td>neighborhood_WEST RIDGE</td>\n",
       "      <td>0</td>\n",
       "    </tr>\n",
       "    <tr>\n",
       "      <th>75</th>\n",
       "      <td>neighborhood_WEST TOWN</td>\n",
       "      <td>0</td>\n",
       "    </tr>\n",
       "    <tr>\n",
       "      <th>76</th>\n",
       "      <td>neighborhood_WOODLAWN</td>\n",
       "      <td>0</td>\n",
       "    </tr>\n",
       "  </tbody>\n",
       "</table>\n",
       "<p>77 rows × 2 columns</p>\n",
       "</div>"
      ],
      "text/plain": [
       "                   Neighborhood  bool\n",
       "0      neighborhood_ALBANY PARK     0\n",
       "1   neighborhood_ARCHER HEIGHTS     0\n",
       "2    neighborhood_ARMOUR SQUARE     0\n",
       "3          neighborhood_ASHBURN     0\n",
       "4   neighborhood_AUBURN GRESHAM     0\n",
       "..                          ...   ...\n",
       "72       neighborhood_WEST LAWN     0\n",
       "73    neighborhood_WEST PULLMAN     0\n",
       "74      neighborhood_WEST RIDGE     0\n",
       "75       neighborhood_WEST TOWN     0\n",
       "76        neighborhood_WOODLAWN     0\n",
       "\n",
       "[77 rows x 2 columns]"
      ]
     },
     "execution_count": 63,
     "metadata": {},
     "output_type": "execute_result"
    }
   ],
   "source": [
    "neighborhood_select"
   ]
  }
 ],
 "metadata": {
  "kernelspec": {
   "display_name": "base",
   "language": "python",
   "name": "python3"
  },
  "language_info": {
   "codemirror_mode": {
    "name": "ipython",
    "version": 3
   },
   "file_extension": ".py",
   "mimetype": "text/x-python",
   "name": "python",
   "nbconvert_exporter": "python",
   "pygments_lexer": "ipython3",
   "version": "3.11.5"
  }
 },
 "nbformat": 4,
 "nbformat_minor": 2
}
