{
 "cells": [
  {
   "cell_type": "code",
   "execution_count": 24,
   "metadata": {},
   "outputs": [],
   "source": [
    "import pandas as pd"
   ]
  },
  {
   "cell_type": "code",
   "execution_count": 5,
   "metadata": {},
   "outputs": [],
   "source": [
    "pd.set_option('display.max_columns', None)"
   ]
  },
  {
   "cell_type": "code",
   "execution_count": 13,
   "metadata": {},
   "outputs": [
    {
     "name": "stdout",
     "output_type": "stream",
     "text": [
      "Total rows retrieved: 60000\n"
     ]
    }
   ],
   "source": [
    "import requests\n",
    "import pandas as pd\n",
    "import json \n",
    "\n",
    "url = \"https://data.cityofchicago.org/resource/9hwr-2zxp.json\"\n",
    "total_rows = 60000\n",
    "chunk_size = 1000\n",
    "offset = 0\n",
    "dataframes = []\n",
    "\n",
    "while offset < total_rows:\n",
    "    params = {'$limit': chunk_size, '$offset': offset}\n",
    "    response = requests.get(url, params=params)\n",
    "\n",
    "    if response.status_code == 200:\n",
    "        data = response.json()\n",
    "        if len(data) == 0:  \n",
    "            break\n",
    "        df = pd.DataFrame(data)\n",
    "        dataframes.append(df)\n",
    "        offset += chunk_size\n",
    "    else:\n",
    "        print(\"Failed to retrieve data. Status code:\", response.status_code)\n",
    "        break\n",
    "\n",
    "final_df = pd.concat(dataframes, ignore_index=True)\n",
    "\n",
    "print(\"Total rows retrieved:\", len(final_df))"
   ]
  },
  {
   "cell_type": "code",
   "execution_count": 8,
   "metadata": {},
   "outputs": [],
   "source": [
    "import pandas as pd\n",
    "\n",
    "# Set the max_colwidth option to None to display entire contents of 'location' column\n",
    "pd.set_option('display.max_colwidth', None)\n"
   ]
  },
  {
   "cell_type": "code",
   "execution_count": 3,
   "metadata": {},
   "outputs": [
    {
     "data": {
      "text/plain": [
       "date                    object\n",
       "location                object\n",
       "district                object\n",
       "block                   object\n",
       "y_coordinate            object\n",
       "latitude                object\n",
       "description             object\n",
       "location_description    object\n",
       "updated_on              object\n",
       "community_area          object\n",
       "iucr                    object\n",
       "x_coordinate            object\n",
       "ward                    object\n",
       "case_number             object\n",
       "year                    object\n",
       "domestic                  bool\n",
       "fbi_code                object\n",
       "longitude               object\n",
       "beat                    object\n",
       "primary_type            object\n",
       "arrest                    bool\n",
       "id                      object\n",
       "dtype: object"
      ]
     },
     "execution_count": 3,
     "metadata": {},
     "output_type": "execute_result"
    }
   ],
   "source": [
    "final_df.dtypes"
   ]
  },
  {
   "cell_type": "code",
   "execution_count": 20,
   "metadata": {},
   "outputs": [],
   "source": [
    "final_df = final_df.drop('location', axis=1)\n"
   ]
  },
  {
   "cell_type": "code",
   "execution_count": 37,
   "metadata": {},
   "outputs": [
    {
     "data": {
      "text/plain": [
       "property_url      object\n",
       "mls               object\n",
       "mls_id            object\n",
       "status            object\n",
       "style             object\n",
       "street            object\n",
       "unit              object\n",
       "city              object\n",
       "state             object\n",
       "zip_code          object\n",
       "beds              object\n",
       "full_baths        object\n",
       "half_baths        object\n",
       "sqft              object\n",
       "year_built        object\n",
       "days_on_mls       object\n",
       "list_price        object\n",
       "list_date         object\n",
       "sold_price         int64\n",
       "last_sold_date    object\n",
       "lot_sqft          object\n",
       "price_per_sqft    object\n",
       "latitude          object\n",
       "longitude         object\n",
       "stories           object\n",
       "hoa_fee           object\n",
       "parking_garage    object\n",
       "primary_photo     object\n",
       "alt_photos        object\n",
       "dtype: object"
      ]
     },
     "execution_count": 37,
     "metadata": {},
     "output_type": "execute_result"
    }
   ],
   "source": [
    "all_properties.dtypes"
   ]
  },
  {
   "cell_type": "code",
   "execution_count": 28,
   "metadata": {},
   "outputs": [
    {
     "name": "stdout",
     "output_type": "stream",
     "text": [
      "Segment 1, Dates: 2022-08-24 to 2022-08-29, Number of properties: 706\n",
      "Segment 2, Dates: 2022-08-29 to 2022-09-03, Number of properties: 995\n",
      "Segment 3, Dates: 2022-09-03 to 2022-09-08, Number of properties: 510\n",
      "Segment 4, Dates: 2022-09-08 to 2022-09-13, Number of properties: 614\n",
      "Segment 5, Dates: 2022-09-13 to 2022-09-18, Number of properties: 658\n",
      "Segment 6, Dates: 2022-09-18 to 2022-09-23, Number of properties: 501\n",
      "Segment 7, Dates: 2022-09-23 to 2022-09-28, Number of properties: 406\n",
      "Segment 8, Dates: 2022-09-28 to 2022-10-03, Number of properties: 653\n",
      "Segment 9, Dates: 2022-10-03 to 2022-10-08, Number of properties: 690\n",
      "Segment 10, Dates: 2022-10-08 to 2022-10-13, Number of properties: 441\n",
      "Segment 11, Dates: 2022-10-13 to 2022-10-18, Number of properties: 584\n",
      "Segment 12, Dates: 2022-10-18 to 2022-10-23, Number of properties: 499\n",
      "Segment 13, Dates: 2022-10-23 to 2022-10-28, Number of properties: 635\n",
      "Segment 14, Dates: 2022-10-28 to 2022-11-02, Number of properties: 692\n",
      "Segment 15, Dates: 2022-11-02 to 2022-11-07, Number of properties: 465\n",
      "Segment 16, Dates: 2022-11-07 to 2022-11-12, Number of properties: 446\n",
      "Segment 17, Dates: 2022-11-12 to 2022-11-17, Number of properties: 499\n",
      "Segment 18, Dates: 2022-11-17 to 2022-11-22, Number of properties: 532\n",
      "Segment 19, Dates: 2022-11-22 to 2022-11-27, Number of properties: 252\n",
      "Segment 20, Dates: 2022-11-27 to 2022-12-02, Number of properties: 686\n",
      "Segment 21, Dates: 2022-12-02 to 2022-12-07, Number of properties: 423\n",
      "Segment 22, Dates: 2022-12-07 to 2022-12-12, Number of properties: 369\n",
      "Segment 23, Dates: 2022-12-12 to 2022-12-17, Number of properties: 574\n",
      "Segment 24, Dates: 2022-12-17 to 2022-12-22, Number of properties: 466\n",
      "Segment 25, Dates: 2022-12-22 to 2022-12-27, Number of properties: 376\n",
      "Segment 26, Dates: 2022-12-27 to 2023-01-01, Number of properties: 446\n",
      "Segment 27, Dates: 2023-01-01 to 2023-01-06, Number of properties: 431\n",
      "Segment 28, Dates: 2023-01-06 to 2023-01-11, Number of properties: 365\n",
      "Segment 29, Dates: 2023-01-11 to 2023-01-16, Number of properties: 299\n",
      "Segment 30, Dates: 2023-01-16 to 2023-01-21, Number of properties: 414\n",
      "Segment 31, Dates: 2023-01-21 to 2023-01-26, Number of properties: 311\n",
      "Segment 32, Dates: 2023-01-26 to 2023-01-31, Number of properties: 411\n",
      "Segment 33, Dates: 2023-01-31 to 2023-02-05, Number of properties: 385\n",
      "Segment 34, Dates: 2023-02-05 to 2023-02-10, Number of properties: 439\n",
      "Segment 35, Dates: 2023-02-10 to 2023-02-15, Number of properties: 404\n",
      "Segment 36, Dates: 2023-02-15 to 2023-02-20, Number of properties: 329\n",
      "Segment 37, Dates: 2023-02-20 to 2023-02-25, Number of properties: 425\n",
      "Segment 38, Dates: 2023-02-25 to 2023-03-02, Number of properties: 513\n",
      "Segment 39, Dates: 2023-03-02 to 2023-03-07, Number of properties: 405\n",
      "Segment 40, Dates: 2023-03-07 to 2023-03-12, Number of properties: 520\n",
      "Segment 41, Dates: 2023-03-12 to 2023-03-17, Number of properties: 770\n",
      "Segment 42, Dates: 2023-03-17 to 2023-03-22, Number of properties: 562\n",
      "Segment 43, Dates: 2023-03-22 to 2023-03-27, Number of properties: 526\n",
      "Segment 44, Dates: 2023-03-27 to 2023-04-01, Number of properties: 832\n",
      "Segment 45, Dates: 2023-04-01 to 2023-04-06, Number of properties: 556\n",
      "Segment 46, Dates: 2023-04-06 to 2023-04-11, Number of properties: 552\n",
      "Segment 47, Dates: 2023-04-11 to 2023-04-16, Number of properties: 574\n",
      "Segment 48, Dates: 2023-04-16 to 2023-04-21, Number of properties: 686\n",
      "Segment 49, Dates: 2023-04-21 to 2023-04-26, Number of properties: 568\n",
      "Segment 50, Dates: 2023-04-26 to 2023-05-01, Number of properties: 871\n",
      "Segment 51, Dates: 2023-05-01 to 2023-05-06, Number of properties: 931\n",
      "Segment 52, Dates: 2023-05-06 to 2023-05-11, Number of properties: 428\n",
      "Segment 53, Dates: 2023-05-11 to 2023-05-16, Number of properties: 485\n",
      "Segment 54, Dates: 2023-05-16 to 2023-05-21, Number of properties: 421\n",
      "Segment 55, Dates: 2023-05-21 to 2023-05-26, Number of properties: 606\n",
      "Segment 56, Dates: 2023-05-26 to 2023-05-31, Number of properties: 557\n",
      "Segment 57, Dates: 2023-05-31 to 2023-06-05, Number of properties: 747\n",
      "Segment 58, Dates: 2023-06-05 to 2023-06-10, Number of properties: 540\n",
      "Segment 59, Dates: 2023-06-10 to 2023-06-15, Number of properties: 459\n",
      "Segment 60, Dates: 2023-06-15 to 2023-06-20, Number of properties: 542\n",
      "Segment 61, Dates: 2023-06-20 to 2023-06-25, Number of properties: 492\n",
      "Segment 62, Dates: 2023-06-25 to 2023-06-30, Number of properties: 830\n",
      "Segment 63, Dates: 2023-06-30 to 2023-07-05, Number of properties: 513\n",
      "Segment 64, Dates: 2023-07-05 to 2023-07-10, Number of properties: 579\n",
      "Segment 65, Dates: 2023-07-10 to 2023-07-15, Number of properties: 825\n",
      "Segment 66, Dates: 2023-07-15 to 2023-07-20, Number of properties: 584\n",
      "Segment 67, Dates: 2023-07-20 to 2023-07-25, Number of properties: 451\n",
      "Segment 68, Dates: 2023-07-25 to 2023-07-30, Number of properties: 485\n",
      "Segment 69, Dates: 2023-07-30 to 2023-08-04, Number of properties: 694\n",
      "Segment 70, Dates: 2023-08-04 to 2023-08-09, Number of properties: 362\n",
      "Segment 71, Dates: 2023-08-09 to 2023-08-14, Number of properties: 393\n",
      "Segment 72, Dates: 2023-08-14 to 2023-08-19, Number of properties: 549\n",
      "Segment 73, Dates: 2023-08-19 to 2023-08-24, Number of properties: 360\n",
      "Segment 74, Dates: 2023-08-24 to 2023-08-29, Number of properties: 463\n",
      "Segment 75, Dates: 2023-08-29 to 2023-09-03, Number of properties: 593\n",
      "Segment 76, Dates: 2023-09-03 to 2023-09-08, Number of properties: 429\n",
      "Segment 77, Dates: 2023-09-08 to 2023-09-13, Number of properties: 385\n",
      "Segment 78, Dates: 2023-09-13 to 2023-09-18, Number of properties: 432\n",
      "Segment 79, Dates: 2023-09-18 to 2023-09-23, Number of properties: 427\n",
      "Segment 80, Dates: 2023-09-23 to 2023-09-28, Number of properties: 371\n",
      "Segment 81, Dates: 2023-09-28 to 2023-10-03, Number of properties: 522\n",
      "Segment 82, Dates: 2023-10-03 to 2023-10-08, Number of properties: 341\n",
      "Segment 83, Dates: 2023-10-08 to 2023-10-13, Number of properties: 376\n",
      "Segment 84, Dates: 2023-10-13 to 2023-10-18, Number of properties: 345\n",
      "Segment 85, Dates: 2023-10-18 to 2023-10-23, Number of properties: 374\n",
      "Segment 86, Dates: 2023-10-23 to 2023-10-28, Number of properties: 454\n",
      "Segment 87, Dates: 2023-10-28 to 2023-11-02, Number of properties: 350\n",
      "Segment 88, Dates: 2023-11-02 to 2023-11-07, Number of properties: 310\n",
      "Segment 89, Dates: 2023-11-07 to 2023-11-12, Number of properties: 279\n",
      "Segment 90, Dates: 2023-11-12 to 2023-11-17, Number of properties: 464\n",
      "Total Number of properties: 46014\n"
     ]
    }
   ],
   "source": [
    "from homeharvest import scrape_property\n",
    "from datetime import datetime, timedelta\n",
    "\n",
    "properties_list = []\n",
    "start_date = datetime.now() - timedelta(days=500)\n",
    "end_date = datetime.now()\n",
    "date_range = (end_date - start_date).days\n",
    "segments = 90  # Adjust the number of segments as necessary\n",
    "days_per_request = date_range // segments\n",
    "\n",
    "for i in range(segments):\n",
    "    date_from = start_date + timedelta(days=i * days_per_request)\n",
    "    date_to = date_from + timedelta(days=days_per_request)\n",
    "\n",
    "    partial_properties = scrape_property(\n",
    "        location=\"Chicago, IL\",\n",
    "        listing_type=\"sold\",\n",
    "        date_from=date_from.strftime(\"%Y-%m-%d\"),\n",
    "        date_to=date_to.strftime(\"%Y-%m-%d\")\n",
    "    )\n",
    "\n",
    "    print(f\"Segment {i+1}, Dates: {date_from.strftime('%Y-%m-%d')} to {date_to.strftime('%Y-%m-%d')}, Number of properties: {len(partial_properties)}\")\n",
    "    properties_list.append(partial_properties)\n",
    "\n",
    "all_properties = pd.concat(properties_list, ignore_index=True)\n",
    "print(f\"Total Number of properties: {len(all_properties)}\")\n",
    "\n",
    "filename = \"HomeHarvest_Chicago.csv\"\n",
    "all_properties.to_csv(filename, index=False)\n"
   ]
  },
  {
   "cell_type": "code",
   "execution_count": 23,
   "metadata": {},
   "outputs": [],
   "source": [
    "import sqlite3"
   ]
  },
  {
   "cell_type": "code",
   "execution_count": 24,
   "metadata": {},
   "outputs": [],
   "source": [
    "# Create a new SQLite database file\n",
    "conn = sqlite3.connect('chicago-crime-property.db')\n",
    "cursor = conn.cursor()\n"
   ]
  },
  {
   "cell_type": "code",
   "execution_count": 25,
   "metadata": {},
   "outputs": [
    {
     "ename": "OperationalError",
     "evalue": "table Property already exists",
     "output_type": "error",
     "traceback": [
      "\u001b[0;31m---------------------------------------------------------------------------\u001b[0m",
      "\u001b[0;31mOperationalError\u001b[0m                          Traceback (most recent call last)",
      "\u001b[1;32m/Users/rashidbaset/Documents/my-projects/crime-home-price-prediction-capstone/dataclean.ipynb Cell 12\u001b[0m line \u001b[0;36m2\n\u001b[1;32m      <a href='vscode-notebook-cell:/Users/rashidbaset/Documents/my-projects/crime-home-price-prediction-capstone/dataclean.ipynb#X22sZmlsZQ%3D%3D?line=0'>1</a>\u001b[0m \u001b[39m# Create a table for the Property data\u001b[39;00m\n\u001b[0;32m----> <a href='vscode-notebook-cell:/Users/rashidbaset/Documents/my-projects/crime-home-price-prediction-capstone/dataclean.ipynb#X22sZmlsZQ%3D%3D?line=1'>2</a>\u001b[0m cursor\u001b[39m.\u001b[39mexecute(\u001b[39m'''\u001b[39m\u001b[39mCREATE TABLE Property (\u001b[39m\n\u001b[1;32m      <a href='vscode-notebook-cell:/Users/rashidbaset/Documents/my-projects/crime-home-price-prediction-capstone/dataclean.ipynb#X22sZmlsZQ%3D%3D?line=2'>3</a>\u001b[0m \u001b[39m                 property_url TEXT,\u001b[39m\n\u001b[1;32m      <a href='vscode-notebook-cell:/Users/rashidbaset/Documents/my-projects/crime-home-price-prediction-capstone/dataclean.ipynb#X22sZmlsZQ%3D%3D?line=3'>4</a>\u001b[0m \u001b[39m                 mls TEXT,\u001b[39m\n\u001b[1;32m      <a href='vscode-notebook-cell:/Users/rashidbaset/Documents/my-projects/crime-home-price-prediction-capstone/dataclean.ipynb#X22sZmlsZQ%3D%3D?line=4'>5</a>\u001b[0m \u001b[39m                 mls_id INTEGER,\u001b[39m\n\u001b[1;32m      <a href='vscode-notebook-cell:/Users/rashidbaset/Documents/my-projects/crime-home-price-prediction-capstone/dataclean.ipynb#X22sZmlsZQ%3D%3D?line=5'>6</a>\u001b[0m \u001b[39m                 status TEXT,\u001b[39m\n\u001b[1;32m      <a href='vscode-notebook-cell:/Users/rashidbaset/Documents/my-projects/crime-home-price-prediction-capstone/dataclean.ipynb#X22sZmlsZQ%3D%3D?line=6'>7</a>\u001b[0m \u001b[39m                 street TEXT,\u001b[39m\n\u001b[1;32m      <a href='vscode-notebook-cell:/Users/rashidbaset/Documents/my-projects/crime-home-price-prediction-capstone/dataclean.ipynb#X22sZmlsZQ%3D%3D?line=7'>8</a>\u001b[0m \u001b[39m                 unit TEXT,\u001b[39m\n\u001b[1;32m      <a href='vscode-notebook-cell:/Users/rashidbaset/Documents/my-projects/crime-home-price-prediction-capstone/dataclean.ipynb#X22sZmlsZQ%3D%3D?line=8'>9</a>\u001b[0m \u001b[39m                 city TEXT,\u001b[39m\n\u001b[1;32m     <a href='vscode-notebook-cell:/Users/rashidbaset/Documents/my-projects/crime-home-price-prediction-capstone/dataclean.ipynb#X22sZmlsZQ%3D%3D?line=9'>10</a>\u001b[0m \u001b[39m                 state TEXT,\u001b[39m\n\u001b[1;32m     <a href='vscode-notebook-cell:/Users/rashidbaset/Documents/my-projects/crime-home-price-prediction-capstone/dataclean.ipynb#X22sZmlsZQ%3D%3D?line=10'>11</a>\u001b[0m \u001b[39m                 zip_code TEXT,\u001b[39m\n\u001b[1;32m     <a href='vscode-notebook-cell:/Users/rashidbaset/Documents/my-projects/crime-home-price-prediction-capstone/dataclean.ipynb#X22sZmlsZQ%3D%3D?line=11'>12</a>\u001b[0m \u001b[39m                 style TEXT,\u001b[39m\n\u001b[1;32m     <a href='vscode-notebook-cell:/Users/rashidbaset/Documents/my-projects/crime-home-price-prediction-capstone/dataclean.ipynb#X22sZmlsZQ%3D%3D?line=12'>13</a>\u001b[0m \u001b[39m                 beds INTEGER,\u001b[39m\n\u001b[1;32m     <a href='vscode-notebook-cell:/Users/rashidbaset/Documents/my-projects/crime-home-price-prediction-capstone/dataclean.ipynb#X22sZmlsZQ%3D%3D?line=13'>14</a>\u001b[0m \u001b[39m                 full_baths INTEGER,\u001b[39m\n\u001b[1;32m     <a href='vscode-notebook-cell:/Users/rashidbaset/Documents/my-projects/crime-home-price-prediction-capstone/dataclean.ipynb#X22sZmlsZQ%3D%3D?line=14'>15</a>\u001b[0m \u001b[39m                 half_baths INTEGER,\u001b[39m\n\u001b[1;32m     <a href='vscode-notebook-cell:/Users/rashidbaset/Documents/my-projects/crime-home-price-prediction-capstone/dataclean.ipynb#X22sZmlsZQ%3D%3D?line=15'>16</a>\u001b[0m \u001b[39m                 sqft INTEGER,\u001b[39m\n\u001b[1;32m     <a href='vscode-notebook-cell:/Users/rashidbaset/Documents/my-projects/crime-home-price-prediction-capstone/dataclean.ipynb#X22sZmlsZQ%3D%3D?line=16'>17</a>\u001b[0m \u001b[39m                 year_built INTEGER,\u001b[39m\n\u001b[1;32m     <a href='vscode-notebook-cell:/Users/rashidbaset/Documents/my-projects/crime-home-price-prediction-capstone/dataclean.ipynb#X22sZmlsZQ%3D%3D?line=17'>18</a>\u001b[0m \u001b[39m                 stories INTEGER,\u001b[39m\n\u001b[1;32m     <a href='vscode-notebook-cell:/Users/rashidbaset/Documents/my-projects/crime-home-price-prediction-capstone/dataclean.ipynb#X22sZmlsZQ%3D%3D?line=18'>19</a>\u001b[0m \u001b[39m                 lot_sqft INTEGER,\u001b[39m\n\u001b[1;32m     <a href='vscode-notebook-cell:/Users/rashidbaset/Documents/my-projects/crime-home-price-prediction-capstone/dataclean.ipynb#X22sZmlsZQ%3D%3D?line=19'>20</a>\u001b[0m \u001b[39m                 days_on_mls INTEGER,\u001b[39m\n\u001b[1;32m     <a href='vscode-notebook-cell:/Users/rashidbaset/Documents/my-projects/crime-home-price-prediction-capstone/dataclean.ipynb#X22sZmlsZQ%3D%3D?line=20'>21</a>\u001b[0m \u001b[39m                 list_price REAL,\u001b[39m\n\u001b[1;32m     <a href='vscode-notebook-cell:/Users/rashidbaset/Documents/my-projects/crime-home-price-prediction-capstone/dataclean.ipynb#X22sZmlsZQ%3D%3D?line=21'>22</a>\u001b[0m \u001b[39m                 list_date TEXT,\u001b[39m\n\u001b[1;32m     <a href='vscode-notebook-cell:/Users/rashidbaset/Documents/my-projects/crime-home-price-prediction-capstone/dataclean.ipynb#X22sZmlsZQ%3D%3D?line=22'>23</a>\u001b[0m \u001b[39m                 sold_price REAL,\u001b[39m\n\u001b[1;32m     <a href='vscode-notebook-cell:/Users/rashidbaset/Documents/my-projects/crime-home-price-prediction-capstone/dataclean.ipynb#X22sZmlsZQ%3D%3D?line=23'>24</a>\u001b[0m \u001b[39m                 last_sold_date TEXT,\u001b[39m\n\u001b[1;32m     <a href='vscode-notebook-cell:/Users/rashidbaset/Documents/my-projects/crime-home-price-prediction-capstone/dataclean.ipynb#X22sZmlsZQ%3D%3D?line=24'>25</a>\u001b[0m \u001b[39m                 price_per_sqft REAL,\u001b[39m\n\u001b[1;32m     <a href='vscode-notebook-cell:/Users/rashidbaset/Documents/my-projects/crime-home-price-prediction-capstone/dataclean.ipynb#X22sZmlsZQ%3D%3D?line=25'>26</a>\u001b[0m \u001b[39m                 hoa_fee REAL,\u001b[39m\n\u001b[1;32m     <a href='vscode-notebook-cell:/Users/rashidbaset/Documents/my-projects/crime-home-price-prediction-capstone/dataclean.ipynb#X22sZmlsZQ%3D%3D?line=26'>27</a>\u001b[0m \u001b[39m                 latitude REAL,\u001b[39m\n\u001b[1;32m     <a href='vscode-notebook-cell:/Users/rashidbaset/Documents/my-projects/crime-home-price-prediction-capstone/dataclean.ipynb#X22sZmlsZQ%3D%3D?line=27'>28</a>\u001b[0m \u001b[39m                 longitude REAL\u001b[39m\n\u001b[1;32m     <a href='vscode-notebook-cell:/Users/rashidbaset/Documents/my-projects/crime-home-price-prediction-capstone/dataclean.ipynb#X22sZmlsZQ%3D%3D?line=28'>29</a>\u001b[0m \u001b[39m                 )\u001b[39m\u001b[39m'''\u001b[39m)\n\u001b[1;32m     <a href='vscode-notebook-cell:/Users/rashidbaset/Documents/my-projects/crime-home-price-prediction-capstone/dataclean.ipynb#X22sZmlsZQ%3D%3D?line=30'>31</a>\u001b[0m \u001b[39m# Create a table for the Crime data\u001b[39;00m\n\u001b[1;32m     <a href='vscode-notebook-cell:/Users/rashidbaset/Documents/my-projects/crime-home-price-prediction-capstone/dataclean.ipynb#X22sZmlsZQ%3D%3D?line=31'>32</a>\u001b[0m cursor\u001b[39m.\u001b[39mexecute(\u001b[39m'''\u001b[39m\u001b[39mCREATE TABLE Crime (\u001b[39m\n\u001b[1;32m     <a href='vscode-notebook-cell:/Users/rashidbaset/Documents/my-projects/crime-home-price-prediction-capstone/dataclean.ipynb#X22sZmlsZQ%3D%3D?line=32'>33</a>\u001b[0m \u001b[39m                 ID INTEGER PRIMARY KEY,\u001b[39m\n\u001b[1;32m     <a href='vscode-notebook-cell:/Users/rashidbaset/Documents/my-projects/crime-home-price-prediction-capstone/dataclean.ipynb#X22sZmlsZQ%3D%3D?line=33'>34</a>\u001b[0m \u001b[39m                 CaseNumber TEXT,\u001b[39m\n\u001b[0;32m   (...)\u001b[0m\n\u001b[1;32m     <a href='vscode-notebook-cell:/Users/rashidbaset/Documents/my-projects/crime-home-price-prediction-capstone/dataclean.ipynb#X22sZmlsZQ%3D%3D?line=53'>54</a>\u001b[0m \u001b[39m                 Location TEXT\u001b[39m\n\u001b[1;32m     <a href='vscode-notebook-cell:/Users/rashidbaset/Documents/my-projects/crime-home-price-prediction-capstone/dataclean.ipynb#X22sZmlsZQ%3D%3D?line=54'>55</a>\u001b[0m \u001b[39m                 )\u001b[39m\u001b[39m'''\u001b[39m)\n",
      "\u001b[0;31mOperationalError\u001b[0m: table Property already exists"
     ]
    }
   ],
   "source": [
    "# Create a table for the Property data\n",
    "cursor.execute('''CREATE TABLE Property (\n",
    "                 property_url TEXT,\n",
    "                 mls TEXT,\n",
    "                 mls_id INTEGER,\n",
    "                 status TEXT,\n",
    "                 street TEXT,\n",
    "                 unit TEXT,\n",
    "                 city TEXT,\n",
    "                 state TEXT,\n",
    "                 zip_code TEXT,\n",
    "                 style TEXT,\n",
    "                 beds INTEGER,\n",
    "                 full_baths INTEGER,\n",
    "                 half_baths INTEGER,\n",
    "                 sqft INTEGER,\n",
    "                 year_built INTEGER,\n",
    "                 stories INTEGER,\n",
    "                 lot_sqft INTEGER,\n",
    "                 days_on_mls INTEGER,\n",
    "                 list_price REAL,\n",
    "                 list_date TEXT,\n",
    "                 sold_price REAL,\n",
    "                 last_sold_date TEXT,\n",
    "                 price_per_sqft REAL,\n",
    "                 hoa_fee REAL,\n",
    "                 latitude REAL,\n",
    "                 longitude REAL\n",
    "                 )''')\n",
    "\n",
    "# Create a table for the Crime data\n",
    "cursor.execute('''CREATE TABLE Crime (\n",
    "                 ID INTEGER PRIMARY KEY,\n",
    "                 CaseNumber TEXT,\n",
    "                 Date TEXT,\n",
    "                 Block TEXT,\n",
    "                 IUCR TEXT,\n",
    "                 PrimaryType TEXT,\n",
    "                 Description TEXT,\n",
    "                 LocationDescription TEXT,\n",
    "                 Arrest BOOLEAN,\n",
    "                 Domestic BOOLEAN,\n",
    "                 Beat INTEGER,\n",
    "                 District INTEGER,\n",
    "                 Ward INTEGER,\n",
    "                 CommunityArea INTEGER,\n",
    "                 FBICode TEXT,\n",
    "                 XCoordinate REAL,\n",
    "                 YCoordinate REAL,\n",
    "                 Year INTEGER,\n",
    "                 UpdatedOn TEXT,\n",
    "                 Latitude REAL,\n",
    "                 Longitude REAL,\n",
    "                 Location TEXT\n",
    "                 )''')\n",
    "\n",
    "# Commit changes to the database\n",
    "conn.commit()\n"
   ]
  },
  {
   "cell_type": "code",
   "execution_count": 26,
   "metadata": {},
   "outputs": [],
   "source": [
    "# Convert data types for Crime data\n",
    "final_df['district'] = final_df['district'].astype(int)\n",
    "final_df['y_coordinate'] = final_df['y_coordinate'].astype(float)\n",
    "final_df['latitude'] = final_df['latitude'].astype(float)\n",
    "final_df['x_coordinate'] = final_df['x_coordinate'].astype(float)\n",
    "final_df['ward'] = final_df['ward'].astype(int)\n",
    "final_df['year'] = final_df['year'].astype(int)\n",
    "final_df['domestic'] = final_df['domestic'].astype(int)\n",
    "final_df['longitude'] = final_df['longitude'].astype(float)\n",
    "final_df['beat'] = final_df['beat'].astype(int)\n",
    "final_df['arrest'] = final_df['arrest'].astype(int)\n",
    "\n",
    "# Convert date columns to text if needed\n",
    "final_df['date'] = final_df['date'].astype(str)\n",
    "final_df['updated_on'] = final_df['updated_on'].astype(str)\n",
    "\n",
    "# Insert data into the 'Crime' table\n",
    "final_df.to_sql('Crime', conn, if_exists='replace', index=False)\n",
    "\n",
    "# Commit changes to the database\n",
    "conn.commit()\n"
   ]
  },
  {
   "cell_type": "code",
   "execution_count": 36,
   "metadata": {},
   "outputs": [],
   "source": [
    "# Convert data types for properties data\n",
    "# Handle missing or None values in the 'mls_id' column by converting them to -1 (or any suitable default value)\n",
    "all_properties['sold_price'] = all_properties['sold_price'].fillna(-1).astype(float)\n",
    "all_properties['price_per_sqft'] = all_properties['price_per_sqft'].fillna(-1).astype(float)\n",
    "all_properties['latitude'] = all_properties['latitude'].fillna(-1).astype(float)\n",
    "all_properties['longitude'] = all_properties['longitude'].fillna(-1).astype(float)\n",
    "all_properties['stories'] = all_properties['stories'].fillna(-1).astype(int)\n",
    "all_properties['hoa_fee'] = all_properties['hoa_fee'].fillna(-1).astype(float)\n",
    "all_properties['mls_id'] = all_properties['mls_id'].fillna(-1).astype(int)\n",
    "all_properties['beds'] = all_properties['beds'].fillna(-1).astype(int)\n",
    "all_properties['full_baths'] = all_properties['full_baths'].fillna(-1).astype(int)\n",
    "all_properties['half_baths'] = all_properties['half_baths'].fillna(-1).astype(int)\n",
    "all_properties['sqft'] = all_properties['sqft'].fillna(-1).astype(int)\n",
    "all_properties['year_built'] = all_properties['year_built'].fillna(-1).astype(int)\n",
    "all_properties['days_on_mls'] = all_properties['days_on_mls'].fillna(-1).astype(int)\n",
    "all_properties['list_price'] = all_properties['list_price'].fillna(-1).astype(int)\n",
    "\n",
    "\n",
    "# Insert data into the 'Property' table\n",
    "all_properties.to_sql('Property', conn, if_exists='replace', index=False)\n",
    "\n",
    "# Commit changes to the database\n",
    "conn.commit()\n"
   ]
  },
  {
   "cell_type": "code",
   "execution_count": 37,
   "metadata": {},
   "outputs": [],
   "source": [
    "# Transfer property data from all_properties DataFrame to the Property table in SQLite\n",
    "all_properties.to_sql('Property', conn, if_exists='replace', index=False)\n",
    "\n",
    "# Transfer crime data from final_df DataFrame to the Crime table in SQLite\n",
    "final_df.to_sql('Crime', conn, if_exists='replace', index=False)\n",
    "\n",
    "conn.commit()\n",
    "\n"
   ]
  },
  {
   "cell_type": "code",
   "execution_count": 38,
   "metadata": {},
   "outputs": [],
   "source": [
    "db_path = 'chicago-crime-property.db'  "
   ]
  },
  {
   "cell_type": "code",
   "execution_count": null,
   "metadata": {},
   "outputs": [],
   "source": [
    "# Connect to the SQLite database (replace 'your_database.db' with the actual path)\n",
    "conn = sqlite3.connect('chicago-cirme-property.db')\n",
    "\n",
    "# Create a cursor\n",
    "cursor = conn.cursor()\n",
    "\n",
    "# Execute any query"
   ]
  },
  {
   "cell_type": "markdown",
   "metadata": {},
   "source": [
    "#"
   ]
  },
  {
   "cell_type": "markdown",
   "metadata": {},
   "source": []
  }
 ],
 "metadata": {
  "kernelspec": {
   "display_name": "base",
   "language": "python",
   "name": "python3"
  },
  "language_info": {
   "codemirror_mode": {
    "name": "ipython",
    "version": 3
   },
   "file_extension": ".py",
   "mimetype": "text/x-python",
   "name": "python",
   "nbconvert_exporter": "python",
   "pygments_lexer": "ipython3",
   "version": "3.11.5"
  }
 },
 "nbformat": 4,
 "nbformat_minor": 2
}
