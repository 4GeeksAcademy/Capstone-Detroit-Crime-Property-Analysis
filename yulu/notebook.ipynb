{
  "cells": [
    {
      "cell_type": "raw",
      "metadata": {},
      "source": [
        "---\n",
        "title: Assignment\n",
        "---"
      ],
      "id": "17fb09fe"
    },
    {
      "cell_type": "markdown",
      "metadata": {},
      "source": [
        "Yulu is India's leading micro-mobility service provider, which offers unique vehicles for the daily commute. Starting off as a mission to eliminate traffic congestion in India, Yulu provides the safest commute solution through a user-friendly mobile app to enable shared, solo and sustainable commuting. Yulu zones are located at all the appropriate locations (including metro stations, bus stands, office spaces, residential areas, corporate offices, etc) to make those first and last miles smooth, affordable, and convenient.\n",
        "\n",
        "Yulu has recently suffered considerable dips in its revenues. They have contracted a consulting company to understand the factors on which the demand for these shared electric bicycles depends. Specifically, they want to understand the factors affecting the demand for these shared electric bicycles in the Indian market.\n",
        "\n",
        "The company wants to know:\n",
        "\n",
        "-   Which variables are significant in predicting the demand for shared electric bicycles in the Indian market?\n",
        "-   How well do those variables describe the electric bicycle demand.\n",
        "\n",
        "## Data Description\n",
        "\n",
        "The file `bike_sharing.csv` contains the usage data aggregated by the hour with the following columns:\n",
        "\n",
        "-   `datetime` - beginning of an hour for which the data are aggregated;\n",
        "-   `season`\n",
        "    -   1: spring,\n",
        "    -   2: summer,\n",
        "    -   3: fall,\n",
        "    -   4: winter;\n",
        "-   `holiday` - whether a day is a holiday or not\n",
        "-   `workingday` - if a day is neither weekend nor holiday is 1, otherwise is 0.\n",
        "-   `weather`\n",
        "    -   1: clear, few clouds, scattered clouds\n",
        "    -   2: mist + cloudy, mist + scattered clouds, mist + few clouds, mist\n",
        "    -   3: light snow, light rain + thunderstorm + scattered clouds, light rain + scattered clouds\n",
        "    -   4: heavy rain + ice pallets + thunderstorm + mist, snow + fog\n",
        "-   `temp` - air temperature in degrees Celsius\n",
        "-   `atemp` - feeling temperature in degrees Celsius\n",
        "-   `humidity` - air humidity in percent\n",
        "-   `windspeed` - wind speed in km/h\n",
        "-   `casual` - number of bikes rented by casual users\n",
        "-   `registered` - number of bikes rented by registered users\n",
        "-   `count` - total number of rented bikes including both casual and registered users\n",
        "\n",
        "## Practicalities\n",
        "\n",
        "Analyze the provided data and provide insights to the best of your abilities. Use statistical tests to support your claims. Include the relevant tables/graphs/visualization to explain what you have learned about the market. Make sure that the solution reflects your entire thought process including the preparation of data - it is more important how the code is structured rather than just the final result or plot.\n",
        "\n",
        "### Imports\n"
      ],
      "id": "bb4a8327"
    },
    {
      "cell_type": "code",
      "metadata": {},
      "source": [
        "import numpy as np\n",
        "import pandas as pd \n",
        "import matplotlib.pyplot as plt\n",
        "import seaborn as sns\n",
        "import datetime as dt\n",
        "import scipy.stats as spy"
      ],
      "id": "e9b2bfd5",
      "execution_count": null,
      "outputs": []
    },
    {
      "cell_type": "code",
      "metadata": {},
      "source": [
        "df = pd.read_csv(r\"https://d2beiqkhq929f0.cloudfront.net/public_assets/assets/000/001/428/original/bike_sharing.csv?1642089089\")"
      ],
      "id": "28483117",
      "execution_count": null,
      "outputs": []
    },
    {
      "cell_type": "code",
      "metadata": {},
      "source": [
        "df.head(5)"
      ],
      "id": "72ce72a3",
      "execution_count": null,
      "outputs": []
    },
    {
      "cell_type": "code",
      "metadata": {},
      "source": [
        "df.shape"
      ],
      "id": "e3b8633b",
      "execution_count": null,
      "outputs": []
    },
    {
      "cell_type": "code",
      "metadata": {},
      "source": [
        "df.dtypes"
      ],
      "id": "570d424e",
      "execution_count": null,
      "outputs": []
    },
    {
      "cell_type": "markdown",
      "metadata": {},
      "source": [
        "### Data Preparation and Cleaning\n"
      ],
      "id": "6819ef30"
    },
    {
      "cell_type": "code",
      "metadata": {},
      "source": [
        "df.isna().sum()"
      ],
      "id": "f162c5d4",
      "execution_count": null,
      "outputs": []
    },
    {
      "cell_type": "code",
      "metadata": {},
      "source": [
        "# Convert to datetime data type\n",
        "df['datetime'] = pd.to_datetime(df['datetime'])"
      ],
      "id": "6516c235",
      "execution_count": null,
      "outputs": []
    },
    {
      "cell_type": "code",
      "metadata": {},
      "source": [
        "min_datetime = df['datetime'].min()\n",
        "max_datetime = df['datetime'].max()\n",
        "\n",
        "print(\"Minimum Date and Time:\", min_datetime)\n",
        "print(\"Maximum Date and Time:\", max_datetime)"
      ],
      "id": "4466a458",
      "execution_count": null,
      "outputs": []
    },
    {
      "cell_type": "code",
      "metadata": {},
      "source": [
        "# Extract year, month, day, and hour\n",
        "df['year'] = df['datetime'].dt.year\n",
        "df['month'] = df['datetime'].dt.month\n",
        "df['day'] = df['datetime'].dt.day\n",
        "df['hour'] = df['datetime'].dt.hour\n",
        "\n",
        "# Now, you have the 'year', 'month', 'day', and 'hour' columns in your DataFrame\n",
        "print(df[['year', 'month', 'day', 'hour']])"
      ],
      "id": "456c3c91",
      "execution_count": null,
      "outputs": []
    },
    {
      "cell_type": "markdown",
      "metadata": {},
      "source": [
        "## EDA\n",
        "\n",
        "#### Univariate Analysis\n",
        "\n",
        "-   Binary\n",
        "    -   `holiday`\n",
        "    -   `workingday`\n",
        "-   Nominal\n",
        "-   Ordinal\n",
        "    -   `season`\n",
        "    -   `weather`\n",
        "-   Continuous\n",
        "    -   `temp`\n",
        "    -   `atemp`\n",
        "    -   `humidity`\n",
        "    -   `windspeed`\n",
        "-   Discrete\n",
        "    -   `casual`\n",
        "    -   `registered`\n",
        "    -   `count`\n"
      ],
      "id": "efa8d81d"
    },
    {
      "cell_type": "code",
      "metadata": {},
      "source": [
        "statistics = df[['season', 'holiday', 'workingday', 'weather', 'temp', 'atemp', 'humidity', 'windspeed', 'casual', 'registered', 'count']].describe()\n",
        "\n",
        "print(statistics)"
      ],
      "id": "5a250716",
      "execution_count": null,
      "outputs": []
    },
    {
      "cell_type": "code",
      "metadata": {},
      "source": [
        "df.head(5)"
      ],
      "id": "ddc77535",
      "execution_count": null,
      "outputs": []
    },
    {
      "cell_type": "markdown",
      "metadata": {},
      "source": [
        "#### Count\n"
      ],
      "id": "2484fb96"
    },
    {
      "cell_type": "code",
      "metadata": {},
      "source": [
        "df.set_index('datetime', inplace=True)"
      ],
      "id": "3a7aab66",
      "execution_count": null,
      "outputs": []
    },
    {
      "cell_type": "markdown",
      "metadata": {},
      "source": [
        "##### Total Count\n",
        "\n",
        "###### Quarterly Average count of rented bikes\n"
      ],
      "id": "a7d3521f"
    },
    {
      "cell_type": "code",
      "metadata": {},
      "source": [
        "# Group data by quarter and calculate the average count of rented bikes for each quarter\n",
        "quarterly_avg_counts = df.resample('Q')['count'].mean()\n",
        "\n",
        "# Create a line plot to visualize quarterly trends\n",
        "plt.figure(figsize=(12, 6))\n",
        "plt.plot(quarterly_avg_counts.index, quarterly_avg_counts, color='salmon', label='Quarterly Average Count')\n",
        "plt.title('Quarterly Bike Usage Trends')\n",
        "plt.xlabel('Quarter')\n",
        "plt.ylabel('Average Count')\n",
        "plt.legend()\n",
        "plt.xticks(rotation=45)\n",
        "plt.grid(True)\n",
        "plt.tight_layout()\n",
        "plt.show()"
      ],
      "id": "422f6f18",
      "execution_count": null,
      "outputs": []
    },
    {
      "cell_type": "markdown",
      "metadata": {},
      "source": [
        "###### Monthly Average count of rented bikes\n"
      ],
      "id": "b4b678de"
    },
    {
      "cell_type": "code",
      "metadata": {},
      "source": [
        "# Group data by month and calculate the average count of rented bikes for each month\n",
        "monthly_avg_counts = df.resample('M')['count'].mean()\n",
        "\n",
        "# Create a line plot to visualize monthly trends\n",
        "plt.figure(figsize=(12, 6))\n",
        "plt.plot(monthly_avg_counts.index, monthly_avg_counts, color='skyblue', label='Monthly Average Count')\n",
        "plt.title('Monthly Bike Usage Trends')\n",
        "plt.xlabel('Month')\n",
        "plt.ylabel('Average Count')\n",
        "plt.legend()\n",
        "plt.xticks(rotation=45)\n",
        "plt.grid(True)\n",
        "plt.tight_layout()\n",
        "plt.show()"
      ],
      "id": "0c418038",
      "execution_count": null,
      "outputs": []
    },
    {
      "cell_type": "markdown",
      "metadata": {},
      "source": [
        "###### Percentage change between same months in 2011 and 2012\n"
      ],
      "id": "d8acdf96"
    },
    {
      "cell_type": "code",
      "metadata": {},
      "source": [
        "# Filter data for the year 2011 and 2012 separately\n",
        "df_2011 = df[df['year'] == 2011]\n",
        "df_2012 = df[df['year'] == 2012]\n",
        "\n",
        "# Group data by month and calculate total counts for each year\n",
        "monthly_counts_2011 = df_2011.groupby('month')['count'].sum()\n",
        "monthly_counts_2012 = df_2012.groupby('month')['count'].sum()\n",
        "\n",
        "# Calculate the percent change between the same months in 2011 and 2012\n",
        "percent_change = ((monthly_counts_2012 - monthly_counts_2011) / monthly_counts_2011) * 100\n",
        "\n",
        "# Create a DataFrame to display the results\n",
        "comparison_df = pd.DataFrame({\n",
        "    'Month': percent_change.index,\n",
        "    'Percent Change': percent_change\n",
        "})\n",
        "\n",
        "# Display the DataFrame\n",
        "print(comparison_df)"
      ],
      "id": "3149a63c",
      "execution_count": null,
      "outputs": []
    },
    {
      "cell_type": "code",
      "metadata": {},
      "source": [
        "# Plotting a line chart\n",
        "plt.figure(figsize=(10, 6))\n",
        "plt.plot(comparison_df['Month'], comparison_df['Percent Change'], marker='o', color='green', linestyle='-')\n",
        "plt.title('Percent Change in Bike Rentals (2012 vs. 2011)')\n",
        "plt.xlabel('Month')\n",
        "plt.ylabel('Percent Change')\n",
        "plt.xticks(comparison_df['Month'])\n",
        "plt.grid(axis='y', linestyle='--', alpha=0.7)\n",
        "plt.show()"
      ],
      "id": "c6b79d48",
      "execution_count": null,
      "outputs": []
    },
    {
      "cell_type": "markdown",
      "metadata": {},
      "source": [
        "###### Total number of rented bikes over time\n"
      ],
      "id": "2a1a69ef"
    },
    {
      "cell_type": "code",
      "metadata": {},
      "source": [
        "plt.figure(figsize=(12, 6))\n",
        "plt.plot(df.resample('D').sum().index, df.resample('D').sum()['count'], color='green', label='Total Rentals')  # Assuming 'df' is your DataFrame and it's resampled by day\n",
        "plt.title('Total Number of Rented Bikes Over Time')\n",
        "plt.xlabel('Date')\n",
        "plt.ylabel('Count')\n",
        "plt.legend()\n",
        "plt.xticks(rotation=45)\n",
        "plt.grid(True)\n",
        "plt.tight_layout()\n",
        "plt.show()"
      ],
      "id": "f52d7f65",
      "execution_count": null,
      "outputs": []
    },
    {
      "cell_type": "markdown",
      "metadata": {},
      "source": [
        "###### Hourly Bike Usage\n"
      ],
      "id": "ffe0d091"
    },
    {
      "cell_type": "code",
      "metadata": {},
      "source": [
        "# Group data by hour of the day and calculate the average count of rented bikes for each hour\n",
        "hourly_avg_counts = df.groupby(df.index.hour)['count'].mean()\n",
        "\n",
        "# Create a line plot to visualize hourly usage patterns\n",
        "plt.figure(figsize=(12, 6))\n",
        "plt.plot(hourly_avg_counts.index, hourly_avg_counts, color='skyblue', marker='o', linestyle='-', label='Hourly Average Count')\n",
        "plt.title('Hourly Bike Usage Patterns')\n",
        "plt.xlabel('Hour of the Day')\n",
        "plt.ylabel('Average Count')\n",
        "plt.xticks(range(24))\n",
        "plt.legend()\n",
        "plt.grid(True)\n",
        "plt.tight_layout()\n",
        "plt.show()"
      ],
      "id": "8e4e4fd5",
      "execution_count": null,
      "outputs": []
    },
    {
      "cell_type": "code",
      "metadata": {},
      "source": [
        "import pandas as pd\n",
        "import matplotlib.pyplot as plt\n",
        "import seaborn as sns\n",
        "\n",
        "# Assuming you have a DataFrame called 'df' with a 'hour' column and 'year' column\n",
        "# First, create a function to categorize hours into parts of the day\n",
        "def categorize_hour(hour):\n",
        "    if 5 <= hour < 12:  # Morning: 5 AM to 11:59 AM\n",
        "        return \"Morning\"\n",
        "    elif 12 <= hour < 17:  # Midday: 12 PM to 4:59 PM\n",
        "        return \"Midday\"\n",
        "    elif 17 <= hour < 21:  # Evening: 5 PM to 8:59 PM\n",
        "        return \"Evening\"\n",
        "    else:  # Night: 9 PM to 4:59 AM\n",
        "        return \"Night\"\n",
        "\n",
        "# Apply the categorize_hour function to create a new column 'day_part'\n",
        "df['day_part'] = df['hour'].apply(categorize_hour)\n",
        "\n",
        "# Filter the DataFrame for the year 2012\n",
        "df_2012 = df[df['year'] == 2012]\n",
        "\n",
        "# Create a custom order for day parts\n",
        "day_part_order = [\"Morning\", \"Midday\", \"Evening\", \"Night\"]\n",
        "\n",
        "# Group the data by 'day_part' and calculate the mean demand for each part of the day\n",
        "hourly_avg_by_day_part = df_2012.groupby('day_part')['count'].mean().loc[day_part_order]\n",
        "\n",
        "# Set up the matplotlib figure\n",
        "plt.figure(figsize=(10, 6))\n",
        "\n",
        "# Plotting\n",
        "sns.lineplot(x=hourly_avg_by_day_part.index, y=hourly_avg_by_day_part.values, palette=\"viridis\")\n",
        "plt.xlabel('Part of the Day')\n",
        "plt.ylabel('Average Demand')\n",
        "plt.title('Hourly Demand Patterns by Part of the Day (Year 2012)')\n",
        "\n",
        "# Show the plot\n",
        "plt.show()"
      ],
      "id": "a200d37d",
      "execution_count": null,
      "outputs": []
    },
    {
      "cell_type": "code",
      "metadata": {},
      "source": [
        "# Group the data by 'day_part' and calculate the mean demand for each part of the day\n",
        "hourly_avg_by_day_part = df_2012.groupby('day_part')['count'].mean().loc[day_part_order]\n",
        "hourly_avg_casual_by_day_part = df_2012.groupby('day_part')['casual'].mean().loc[day_part_order]\n",
        "hourly_avg_registered_by_day_part = df_2012.groupby('day_part')['registered'].mean().loc[day_part_order]\n",
        "\n",
        "# Set up the matplotlib figure\n",
        "plt.figure(figsize=(12, 8))\n",
        "\n",
        "# Plotting\n",
        "sns.lineplot(x=hourly_avg_by_day_part.index, y=hourly_avg_by_day_part.values, label='Total Demand', palette=\"viridis\")\n",
        "sns.lineplot(x=hourly_avg_casual_by_day_part.index, y=hourly_avg_casual_by_day_part.values, label='Casual Users', palette=\"magma\")\n",
        "sns.lineplot(x=hourly_avg_registered_by_day_part.index, y=hourly_avg_registered_by_day_part.values, label='Registered Users', palette=\"plasma\")\n",
        "\n",
        "plt.xlabel('Part of the Day')\n",
        "plt.ylabel('Average Demand')\n",
        "plt.title('Hourly Demand Patterns by Part of the Day (Year 2012)')\n",
        "plt.legend()\n",
        "\n",
        "# Show the plot\n",
        "plt.show()"
      ],
      "id": "eb9b7327",
      "execution_count": null,
      "outputs": []
    },
    {
      "cell_type": "markdown",
      "metadata": {},
      "source": [
        "###### Hourly Bike Usage by Season\n"
      ],
      "id": "5d499886"
    },
    {
      "cell_type": "code",
      "metadata": {},
      "source": [
        "import matplotlib.pyplot as plt\n",
        "import seaborn as sns\n",
        "import itertools\n",
        "\n",
        "# Assuming df['season'], df['year'], and df['hour'] have been defined as in your setup\n",
        "\n",
        "# Group data by year, season, and hour, and calculate the average count of rented bikes\n",
        "hourly_avg_counts = df.groupby(['year', 'season', 'hour'])['count'].mean().unstack(level='year')\n",
        "\n",
        "# Set up the matplotlib figure\n",
        "plt.figure(figsize=(12, 6))\n",
        "\n",
        "# Set seaborn style\n",
        "sns.set_style(\"whitegrid\")\n",
        "\n",
        "# Define markers and line styles for different years\n",
        "markers = ['o', 'v', '^', '<', '>', 's', 'p', '*', '+', 'x']\n",
        "line_styles = ['-', '--', '-.', ':']\n",
        "\n",
        "# Define colors for different seasons\n",
        "season_colors = {'Winter': 'blue', 'Spring': 'green', 'Summer': 'orange', 'Fall': 'red'}\n",
        "seasons_dict = {1: 'Winter', 2: 'Spring', 3: 'Summer', 4: 'Fall'}\n",
        "\n",
        "# Plot data for each season with different colors for each season and markers for each year\n",
        "for season in seasons_dict.keys():\n",
        "    for i, year in enumerate(sorted(hourly_avg_counts.columns)):\n",
        "        plt.plot(hourly_avg_counts.loc[season, year], \n",
        "                 color=season_colors[seasons_dict[season]],\n",
        "                 marker=markers[i % len(markers)], \n",
        "                 linestyle=line_styles[i % len(line_styles)], \n",
        "                 label=f'Year {year} - {seasons_dict[season]}')\n",
        "\n",
        "# Add title, labels, legend, and grid\n",
        "plt.title('Hourly Bike Usage Patterns by Season and Year')\n",
        "plt.xlabel('Hour of the Day')\n",
        "plt.ylabel('Average Count')\n",
        "plt.legend(loc='upper left', bbox_to_anchor=(1.05, 1), title='Year - Season', ncol=2)\n",
        "plt.grid(True)\n",
        "\n",
        "# Adjust layout\n",
        "plt.tight_layout(rect=[0, 0, 0.85, 1])  # Adjust the rect to make space for the legend\n",
        "\n",
        "# Show the plot\n",
        "plt.show()"
      ],
      "id": "a67b58d2",
      "execution_count": null,
      "outputs": []
    },
    {
      "cell_type": "code",
      "metadata": {},
      "source": [
        "df.columns"
      ],
      "id": "2882c684",
      "execution_count": null,
      "outputs": []
    },
    {
      "cell_type": "code",
      "metadata": {},
      "source": [
        "import matplotlib.pyplot as plt\n",
        "import seaborn as sns\n",
        "\n",
        "# Filter the DataFrame for the year 2012\n",
        "df_2012 = df[df['year'] == 2012]\n",
        "\n",
        "# Group data by season and hour for 2012, and calculate the average count of rented bikes\n",
        "hourly_avg_counts_2012 = df_2012.groupby(['season', 'hour'])['count'].mean().unstack(level='season')\n",
        "\n",
        "# Set up the matplotlib figure\n",
        "plt.figure(figsize=(12, 6))\n",
        "\n",
        "# Set seaborn style\n",
        "sns.set_style(\"whitegrid\")\n",
        "\n",
        "# Define colors for different seasons\n",
        "season_colors = {'Winter': 'blue', 'Spring': 'green', 'Summer': 'orange', 'Fall': 'red'}\n",
        "seasons_dict = {1: 'Winter', 2: 'Spring', 3: 'Summer', 4: 'Fall'}\n",
        "\n",
        "# Plot data for each season with different colors\n",
        "for season in seasons_dict.keys():\n",
        "    plt.plot(hourly_avg_counts_2012[season], \n",
        "             color=season_colors[seasons_dict[season]],\n",
        "             label=seasons_dict[season])\n",
        "\n",
        "# Add title, labels, legend, and grid\n",
        "plt.title('Hourly Bike Usage Patterns by Season for the Year 2012')\n",
        "plt.xlabel('Hour of the Day')\n",
        "plt.ylabel('Average Count')\n",
        "plt.legend(title='Season')\n",
        "plt.grid(True)\n",
        "\n",
        "# Show the plot\n",
        "plt.show()"
      ],
      "id": "dfc89d99",
      "execution_count": null,
      "outputs": []
    },
    {
      "cell_type": "code",
      "metadata": {},
      "source": [
        "hourly_avg_casual = df.groupby(df.index.hour)['casual'].mean()\n",
        "hourly_avg_registered = df.groupby(df.index.hour)['registered'].mean()\n",
        "\n",
        "# Create a line plot to visualize hourly usage patterns for casual and registered users\n",
        "plt.figure(figsize=(12, 6))\n",
        "plt.plot(hourly_avg_casual.index, hourly_avg_casual, color='skyblue', marker='o', linestyle='-', label='Hourly Average Count (Casual)')\n",
        "plt.plot(hourly_avg_registered.index, hourly_avg_registered, color='salmon', marker='o', linestyle='-', label='Hourly Average Count (Registered)')\n",
        "plt.title('Hourly Bike Usage Patterns for Casual and Registered Users')\n",
        "plt.xlabel('Hour of the Day')\n",
        "plt.ylabel('Average Count')\n",
        "plt.xticks(range(24))\n",
        "plt.legend()\n",
        "plt.grid(True)\n",
        "plt.tight_layout()\n",
        "plt.show()"
      ],
      "id": "3b816d49",
      "execution_count": null,
      "outputs": []
    },
    {
      "cell_type": "code",
      "metadata": {},
      "source": [
        "import matplotlib.pyplot as plt\n",
        "import seaborn as sns\n",
        "\n",
        "# Create a new column for day of the week (0=Monday, 6=Sunday)\n",
        "df['day_of_week'] = df.index.dayofweek\n",
        "\n",
        "# Classify as 'Weekday' or 'Weekend'\n",
        "df['day_type'] = df['day_of_week'].apply(lambda x: 'Weekend' if x >= 5 else 'Weekday')\n",
        "\n",
        "hourly_data = df.groupby(['day_type', df.index.hour])[['casual', 'registered']].mean().reset_index()\n",
        "\n",
        "# Set the aesthetic style of the plots\n",
        "sns.set_style(\"whitegrid\")\n",
        "\n",
        "# Plot for Weekdays\n",
        "plt.figure(figsize=(12, 6))\n",
        "sns.lineplot(data=hourly_data[hourly_data['day_type'] == 'Weekday'], x='datetime', y='casual', label='Casual', color='blue')\n",
        "sns.lineplot(data=hourly_data[hourly_data['day_type'] == 'Weekday'], x='datetime', y='registered', label='Registered', color='green')\n",
        "plt.title('Hourly Bike Usage Patterns - Weekdays')\n",
        "plt.xlabel('Hour of the Day')\n",
        "plt.ylabel('Average Count')\n",
        "plt.legend()\n",
        "plt.show()\n",
        "\n",
        "# Plot for Weekends\n",
        "plt.figure(figsize=(12, 6))\n",
        "sns.lineplot(data=hourly_data[hourly_data['day_type'] == 'Weekend'], x='datetime', y='casual', label='Casual', color='blue')\n",
        "sns.lineplot(data=hourly_data[hourly_data['day_type'] == 'Weekend'], x='datetime', y='registered', label='Registered', color='green')\n",
        "plt.title('Hourly Bike Usage Patterns - Weekends')\n",
        "plt.xlabel('Hour of the Day')\n",
        "plt.ylabel('Average Count')\n",
        "plt.legend()\n",
        "plt.show()"
      ],
      "id": "9ce118d4",
      "execution_count": null,
      "outputs": []
    },
    {
      "cell_type": "code",
      "metadata": {},
      "source": [
        "# Group by holiday status and hour, then calculate the mean\n",
        "holiday_hourly = df[df['holiday'] == 1].groupby('hour')['casual', 'registered'].mean()\n",
        "non_holiday_hourly = df[df['holiday'] == 0].groupby('hour')['casual', 'registered'].mean()\n",
        "\n",
        "# Set the aesthetic style of the plots\n",
        "sns.set_style(\"whitegrid\")\n",
        "\n",
        "# Plot for Holidays\n",
        "plt.figure(figsize=(12, 6))\n",
        "sns.lineplot(data=holiday_hourly, x=holiday_hourly.index, y='casual', label='Casual - Holiday', color='blue')\n",
        "sns.lineplot(data=holiday_hourly, x=holiday_hourly.index, y='registered', label='Registered - Holiday', color='green')\n",
        "plt.title('Hourly Bike Usage Patterns - Holidays')\n",
        "plt.xlabel('Hour of the Day')\n",
        "plt.ylabel('Average Count')\n",
        "plt.legend()\n",
        "plt.show()\n",
        "\n",
        "# Plot for Non-Holidays\n",
        "plt.figure(figsize=(12, 6))\n",
        "sns.lineplot(data=non_holiday_hourly, x=non_holiday_hourly.index, y='casual', label='Casual - Non-Holiday', color='blue')\n",
        "sns.lineplot(data=non_holiday_hourly, x=non_holiday_hourly.index, y='registered', label='Registered - Non-Holiday', color='green')\n",
        "plt.title('Hourly Bike Usage Patterns - Non-Holidays')\n",
        "plt.xlabel('Hour of the Day')\n",
        "plt.ylabel('Average Count')\n",
        "plt.legend()\n",
        "plt.show()"
      ],
      "id": "a6fe0a46",
      "execution_count": null,
      "outputs": []
    },
    {
      "cell_type": "markdown",
      "metadata": {},
      "source": [
        "##### Count - Casual Vs. Registered\n",
        "\n",
        "###### Daily Sum of Casual and Registered\n"
      ],
      "id": "12e1fdd0"
    },
    {
      "cell_type": "code",
      "metadata": {},
      "source": [
        "# Calculate the daily sum of the 'casual' and 'registered' variables\n",
        "daily_casual = df.resample('D').sum()['casual']\n",
        "daily_registered = df.resample('D').sum()['registered']\n",
        "\n",
        "# Create line plots for 'casual' and 'registered' rentals over time\n",
        "plt.figure(figsize=(12, 6))\n",
        "plt.plot(daily_casual.index, daily_casual, color='skyblue', label='Casual Rentals')\n",
        "plt.plot(daily_registered.index, daily_registered, color='salmon', label='Registered Rentals')\n",
        "plt.title('Casual and Registered Bike Rentals Over Time')\n",
        "plt.xlabel('Date')\n",
        "plt.ylabel('Count')\n",
        "plt.legend()\n",
        "plt.xticks(rotation=45)\n",
        "plt.grid(True)\n",
        "\n",
        "plt.tight_layout()\n",
        "plt.show()"
      ],
      "id": "4f7574b7",
      "execution_count": null,
      "outputs": []
    },
    {
      "cell_type": "markdown",
      "metadata": {},
      "source": [
        "###### Monthly average counts of Casual and Registered\n"
      ],
      "id": "907672ec"
    },
    {
      "cell_type": "code",
      "metadata": {},
      "source": [
        "# Group data by month and calculate the average counts of casual and registered rentals for each month\n",
        "monthly_avg_casual_counts = df.resample('M')['casual'].mean()\n",
        "monthly_avg_registered_counts = df.resample('M')['registered'].mean()\n",
        "\n",
        "# Create a line plot to visualize monthly trends for casual and registered rentals\n",
        "plt.figure(figsize=(12, 6))\n",
        "plt.plot(monthly_avg_casual_counts.index, monthly_avg_casual_counts, color='skyblue', label='Monthly Average Casual Count')\n",
        "plt.plot(monthly_avg_registered_counts.index, monthly_avg_registered_counts, color='salmon', label='Monthly Average Registered Count')\n",
        "plt.title('Monthly Bike Usage Trends for Casual and Registered Rentals')\n",
        "plt.xlabel('Month')\n",
        "plt.ylabel('Average Count')\n",
        "plt.legend()\n",
        "plt.xticks(rotation=45)\n",
        "plt.grid(True)\n",
        "plt.tight_layout()\n",
        "plt.show()"
      ],
      "id": "14a169ee",
      "execution_count": null,
      "outputs": []
    },
    {
      "cell_type": "markdown",
      "metadata": {},
      "source": [
        "###### Year over year change for Casual and Regular\n"
      ],
      "id": "b76f603a"
    },
    {
      "cell_type": "code",
      "metadata": {},
      "source": [
        "# Group data by month and calculate total counts for each year for casual and registered rentals\n",
        "monthly_casual_counts_2011 = df_2011.groupby('month')['casual'].sum()\n",
        "monthly_registered_counts_2011 = df_2011.groupby('month')['registered'].sum()\n",
        "\n",
        "monthly_casual_counts_2012 = df_2012.groupby('month')['casual'].sum()\n",
        "monthly_registered_counts_2012 = df_2012.groupby('month')['registered'].sum()\n",
        "\n",
        "# Calculate the percent change between the same months in 2011 and 2012 for casual and registered rentals\n",
        "casual_percent_change = ((monthly_casual_counts_2012 - monthly_casual_counts_2011) / monthly_casual_counts_2011) * 100\n",
        "registered_percent_change = ((monthly_registered_counts_2012 - monthly_registered_counts_2011) / monthly_registered_counts_2011) * 100\n",
        "\n",
        "# Create DataFrames to display the results\n",
        "casual_comparison_df = pd.DataFrame({\n",
        "    'Month': casual_percent_change.index,\n",
        "    'Casual Percent Change': casual_percent_change\n",
        "})\n",
        "\n",
        "registered_comparison_df = pd.DataFrame({\n",
        "    'Month': registered_percent_change.index,\n",
        "    'Registered Percent Change': registered_percent_change\n",
        "})\n",
        "\n",
        "# Display the DataFrames\n",
        "print(\"Casual Rentals:\")\n",
        "print(casual_comparison_df)\n",
        "print(\"\\nRegistered Rentals:\")\n",
        "print(registered_comparison_df)"
      ],
      "id": "6f79ac70",
      "execution_count": null,
      "outputs": []
    },
    {
      "cell_type": "markdown",
      "metadata": {},
      "source": [
        "###### Graph of YoY change for casual and registered\n"
      ],
      "id": "797f0d6f"
    },
    {
      "cell_type": "code",
      "metadata": {},
      "source": [
        "# Year-over-year Percent Change\n",
        "plt.figure(figsize=(12, 6))\n",
        "plt.plot(casual_comparison_df['Month'], casual_comparison_df['Casual Percent Change'], color='skyblue', label='Casual Rentals')\n",
        "plt.plot(registered_comparison_df['Month'], registered_comparison_df['Registered Percent Change'], color='salmon', label='Registered Rentals')\n",
        "plt.title('Percentage Change in Casual and Registered Rentals Over Months (2011-2012)')\n",
        "plt.xlabel('Month')\n",
        "plt.ylabel('Percent Change')\n",
        "plt.legend()\n",
        "plt.xticks(rotation=45)\n",
        "plt.grid(True)\n",
        "\n",
        "plt.tight_layout()\n",
        "plt.show()"
      ],
      "id": "d8ff1fef",
      "execution_count": null,
      "outputs": []
    },
    {
      "cell_type": "markdown",
      "metadata": {},
      "source": [
        "#### Weekday\n",
        "\n",
        "##### Weekday Vs. Weekend\n"
      ],
      "id": "11ab81a9"
    },
    {
      "cell_type": "code",
      "metadata": {},
      "source": [
        "# Group data by day of the week and calculate the average count of rented bikes for each day\n",
        "day_of_week = df.index.dayofweek\n",
        "\n",
        "# Create a new column 'Weekday' to indicate whether each day is a weekday (1) or weekend (0)\n",
        "df['Weekday'] = (day_of_week < 5).astype(int)\n",
        "\n",
        "# Group data by weekdays and weekends and calculate the average counts\n",
        "avg_counts_weekdays = df[df['Weekday'] == 1]['count'].mean()\n",
        "avg_counts_weekends = df[df['Weekday'] == 0]['count'].mean()\n",
        "\n",
        "# Create a bar chart to visualize bike rentals on weekdays vs. weekends\n",
        "plt.figure(figsize=(8, 6))\n",
        "plt.bar(['Weekdays', 'Weekends'], [avg_counts_weekdays, avg_counts_weekends], color=['skyblue', 'salmon'])\n",
        "plt.title('Average Bike Rentals on Weekdays vs. Weekends')\n",
        "plt.xlabel('Day Type')\n",
        "plt.ylabel('Average Count')\n",
        "plt.grid(axis='y')\n",
        "plt.tight_layout()\n",
        "plt.show()\n"
      ],
      "id": "2f58a978",
      "execution_count": null,
      "outputs": []
    },
    {
      "cell_type": "markdown",
      "metadata": {},
      "source": [
        "##### Average counts for Avg casual weekeday\n"
      ],
      "id": "b04ac3b4"
    },
    {
      "cell_type": "code",
      "metadata": {},
      "source": [
        "# Group data by weekdays and weekends and calculate the average counts for casual and registered rentals\n",
        "avg_casual_weekdays = df[(df['Weekday'] == 1)]['casual'].mean()\n",
        "avg_registered_weekdays = df[(df['Weekday'] == 1)]['registered'].mean()\n",
        "\n",
        "avg_casual_weekends = df[(df['Weekday'] == 0)]['casual'].mean()\n",
        "avg_registered_weekends = df[(df['Weekday'] == 0)]['registered'].mean()\n",
        "\n",
        "# Create a bar chart to visualize casual and registered bike rentals on weekdays vs. weekends\n",
        "plt.figure(figsize=(10, 6))\n",
        "bar_width = 0.35\n",
        "index = ['Weekdays', 'Weekends']\n",
        "\n",
        "plt.bar(index, [avg_casual_weekdays, avg_casual_weekends], bar_width, label='Casual', color='skyblue')\n",
        "plt.bar(index, [avg_registered_weekdays, avg_registered_weekends], bar_width, label='Registered', color='salmon', bottom=[avg_casual_weekdays, avg_casual_weekends])\n",
        "\n",
        "plt.title('Average Bike Rentals (Casual vs. Registered) on Weekdays vs. Weekends')\n",
        "plt.xlabel('Day Type')\n",
        "plt.ylabel('Average Count')\n",
        "plt.legend()\n",
        "plt.grid(axis='y')\n",
        "plt.tight_layout()\n",
        "plt.show()"
      ],
      "id": "11d51bd5",
      "execution_count": null,
      "outputs": []
    },
    {
      "cell_type": "markdown",
      "metadata": {},
      "source": [
        "#### Holiday, Working Days\n"
      ],
      "id": "1977fda0"
    },
    {
      "cell_type": "code",
      "metadata": {},
      "source": [
        "# Group the data by 'holiday' and 'workingday' and calculate the sum of 'count'\n",
        "rentals_by_holiday = df.groupby('holiday')['count'].sum()\n",
        "rentals_by_workingday = df.groupby('workingday')['count'].sum()\n",
        "\n",
        "# Create a bar chart to compare total rentals on holidays vs. non-holidays\n",
        "plt.figure(figsize=(10, 5))\n",
        "plt.subplot(1, 2, 1)\n",
        "rentals_by_holiday.plot(kind='bar', rot=0)\n",
        "plt.title('Total Rentals on Holidays vs. Non-Holidays')\n",
        "plt.xlabel('Holiday (0: Non-Holiday, 1: Holiday)')\n",
        "plt.ylabel('Total Rentals')\n",
        "\n",
        "# Create a bar chart to compare total rentals on working days vs. non-working days\n",
        "plt.subplot(1, 2, 2)\n",
        "rentals_by_workingday.plot(kind='bar', rot=0)\n",
        "plt.title('Total Rentals on Working Days vs. Non-Working Days')\n",
        "plt.xlabel('Working Day (0: Non-Working Day, 1: Working Day)')\n",
        "plt.ylabel('Total Rentals')\n",
        "\n",
        "plt.tight_layout()\n",
        "plt.show()"
      ],
      "id": "668b0c11",
      "execution_count": null,
      "outputs": []
    },
    {
      "cell_type": "markdown",
      "metadata": {},
      "source": [
        "#### Season, Weather\n",
        "\n",
        "-   `season`\n",
        "    -   1: spring,\n",
        "    -   2: summer,\n",
        "    -   3: fall,\n",
        "    -   4: winter;\n",
        "-   `weather`\n",
        "    -   1: clear, few clouds, scattered clouds\n",
        "    -   2: mist + cloudy, mist + scattered clouds, mist + few clouds, mist\n",
        "    -   3: light snow, light rain + thunderstorm + scattered clouds, light rain + scattered clouds\n",
        "    -   4: heavy rain + ice pallets + thunderstorm + mist, snow + fog\n"
      ],
      "id": "f42bbabf"
    },
    {
      "cell_type": "code",
      "metadata": {},
      "source": [
        "df.head(5)"
      ],
      "id": "05ead8df",
      "execution_count": null,
      "outputs": []
    },
    {
      "cell_type": "code",
      "metadata": {},
      "source": [
        "import pandas as pd\n",
        "import matplotlib.pyplot as plt\n",
        "import seaborn as sns\n",
        "\n",
        "# Since 'datetime' is the index, we can directly use it in the resample method\n",
        "# We also don't need to extract it explicitly\n",
        "\n",
        "# Create line graphs for bike rentals over time for each season\n",
        "plt.figure(figsize=(12, 6))\n",
        "sns.set_style(\"whitegrid\")\n",
        "\n",
        "# Group data by 'season' and calculate the sum of 'count' for each season\n",
        "# We use the name of the index 'datetime' in the Grouper if it's not a column\n",
        "season_grouped = df.groupby(['season', pd.Grouper(freq='M')])['count'].sum().reset_index()\n",
        "\n",
        "# Plot the line graphs for each season\n",
        "for season in season_grouped['season'].unique():\n",
        "    season_subset = season_grouped[season_grouped['season'] == season]\n",
        "    # Since 'datetime' is the index, we need to use the reset index to access it\n",
        "    plt.plot(season_subset['datetime'], season_subset['count'], label=f'Season {season}')\n",
        "\n",
        "plt.title('Bike Rentals Over Time for Each Season')\n",
        "plt.xlabel('Date')\n",
        "plt.ylabel('Total Rentals')\n",
        "plt.legend()\n",
        "plt.xticks(rotation=45)\n",
        "plt.tight_layout()\n",
        "plt.show()\n",
        "\n",
        "# Create line graphs for bike rentals over time for each weather condition\n",
        "plt.figure(figsize=(12, 6))\n",
        "\n",
        "# Group data by 'weather' and calculate the sum of 'count' for each weather condition\n",
        "weather_grouped = df.groupby(['weather', pd.Grouper(freq='M')])['count'].sum().reset_index()\n",
        "\n",
        "# Plot the line graphs for each weather condition\n",
        "for weather_condition in weather_grouped['weather'].unique():\n",
        "    weather_subset = weather_grouped[weather_grouped['weather'] == weather_condition]\n",
        "    plt.plot(weather_subset['datetime'], weather_subset['count'], label=f'Weather {weather_condition}')\n",
        "\n",
        "plt.title('Bike Rentals Over Time for Each Weather Condition')\n",
        "plt.xlabel('Date')\n",
        "plt.ylabel('Total Rentals')\n",
        "plt.legend()\n",
        "plt.xticks(rotation=45)\n",
        "plt.tight_layout()\n",
        "plt.show()"
      ],
      "id": "13e3b949",
      "execution_count": null,
      "outputs": []
    },
    {
      "cell_type": "code",
      "metadata": {},
      "source": [
        "weather_counts = df['weather'].value_counts().sort_index()\n",
        "weather_labels = ['Clear', 'Mist', 'Light Rain', 'Heavy Rain']\n",
        "plt.figure(figsize=(8, 6))\n",
        "plt.bar(weather_labels, weather_counts, color='skyblue')\n",
        "plt.title('Bike Rentals by Weather Condition')\n",
        "plt.xlabel('Weather Condition')\n",
        "plt.ylabel('Count')\n",
        "plt.grid(axis='y')\n",
        "plt.tight_layout()\n",
        "plt.show()"
      ],
      "id": "ace8ed32",
      "execution_count": null,
      "outputs": []
    },
    {
      "cell_type": "markdown",
      "metadata": {},
      "source": [
        "#### Temp, Atemp, Humidity, Windspeed\n"
      ],
      "id": "f6272f23"
    },
    {
      "cell_type": "code",
      "metadata": {},
      "source": [
        "import pandas as pd\n",
        "import matplotlib.pyplot as plt\n",
        "\n",
        "# Assuming you have already loaded your dataset into a DataFrame called 'df'\n",
        "\n",
        "# Extract the columns of interest for analysis\n",
        "variables_of_interest = ['temp', 'atemp', 'humidity', 'windspeed']\n",
        "\n",
        "# Create subplots for histograms\n",
        "fig, axes = plt.subplots(nrows=2, ncols=2, figsize=(12, 8))\n",
        "fig.suptitle('Distribution of Temperature, Feel Temperature, Humidity, and Windspeed')\n",
        "\n",
        "# Plot histograms for each variable\n",
        "for i, variable in enumerate(variables_of_interest):\n",
        "    row = i // 2\n",
        "    col = i % 2\n",
        "    ax = axes[row, col]\n",
        "    \n",
        "    ax.hist(df[variable], bins=20, color='skyblue', edgecolor='black')\n",
        "    ax.set_title(f'Distribution of {variable}')\n",
        "    ax.set_xlabel(variable)\n",
        "    ax.set_ylabel('Frequency')\n",
        "\n",
        "# Adjust layout and show the histograms\n",
        "plt.tight_layout()\n",
        "plt.subplots_adjust(top=0.9)\n",
        "plt.show()"
      ],
      "id": "b226b564",
      "execution_count": null,
      "outputs": []
    },
    {
      "cell_type": "code",
      "metadata": {},
      "source": [
        "# Create a figure for the overlaid histograms\n",
        "plt.figure(figsize=(12, 8))\n",
        "plt.title('Overlayed Histograms of Temperature, Feel Temperature, Humidity, and Windspeed')\n",
        "\n",
        "# Set colors for each variable\n",
        "colors = ['skyblue', 'salmon', 'lightgreen', 'lightcoral']\n",
        "\n",
        "# Plot histograms for each variable with different colors and transparency\n",
        "for i, variable in enumerate(variables_of_interest):\n",
        "    if variable == 'windspeed':\n",
        "        plt.hist(df[variable], bins=20, color='grey', alpha=0.7, label=variable, edgecolor='black')\n",
        "    else:\n",
        "        plt.hist(df[variable], bins=20, color=colors[i], alpha=0.7, label=variable, edgecolor='black')\n",
        "\n",
        "# Add labels and legend\n",
        "plt.xlabel('Value')\n",
        "plt.ylabel('Frequency')\n",
        "plt.legend()\n",
        "\n",
        "# Show the overlaid histograms\n",
        "plt.tight_layout()\n",
        "plt.show()"
      ],
      "id": "a26e38b7",
      "execution_count": null,
      "outputs": []
    },
    {
      "cell_type": "code",
      "metadata": {},
      "source": [
        "# Create temperature bins (e.g., cold, moderate, hot)\n",
        "temperature_bins = [-10, 10, 25, 50]  # Define temperature ranges for the bins\n",
        "temperature_labels = ['Cold', 'Moderate', 'Hot']\n",
        "df['temperature_bin'] = pd.cut(df['temp'], bins=temperature_bins, labels=temperature_labels)\n",
        "\n",
        "# Create a bar chart to visualize bike rentals by temperature bin\n",
        "temperature_counts = df['temperature_bin'].value_counts().sort_index()\n",
        "plt.figure(figsize=(8, 6))\n",
        "plt.bar(temperature_labels, temperature_counts, color='salmon')\n",
        "plt.title('Bike Rentals by Temperature Bin')\n",
        "plt.xlabel('Temperature Bin')\n",
        "plt.ylabel('Count')\n",
        "plt.grid(axis='y')\n",
        "plt.tight_layout()\n",
        "plt.show()"
      ],
      "id": "9d2555fb",
      "execution_count": null,
      "outputs": []
    },
    {
      "cell_type": "code",
      "metadata": {},
      "source": [
        "# Regression plot for 'temp' vs 'count'\n",
        "sns.regplot(data=df, x='temp', y='count', line_kws={\"color\":\"red\",\"alpha\":0.7,\"lw\":5})\n",
        "plt.title('Temperature vs. Bike Rental Count')\n",
        "plt.show()"
      ],
      "id": "03452ec9",
      "execution_count": null,
      "outputs": []
    },
    {
      "cell_type": "code",
      "metadata": {},
      "source": [
        "df['Weekend'] = df.index.dayofweek // 5\n",
        "df = df.drop(['temperature_bin', 'avg_temperature'], axis=1)"
      ],
      "id": "6d510d64",
      "execution_count": null,
      "outputs": []
    },
    {
      "cell_type": "code",
      "metadata": {},
      "source": [
        "# Pair plot for selected variables\n",
        "sns.pairplot(data=df, vars=['temp', 'atemp', 'humidity', 'windspeed', 'count'])\n",
        "plt.show()"
      ],
      "id": "8c2681d3",
      "execution_count": null,
      "outputs": []
    },
    {
      "cell_type": "code",
      "metadata": {},
      "source": [
        "correlation_matrix = df.corr()\n",
        "\n",
        "# Create a heatmap to visualize the correlations\n",
        "plt.figure(figsize=(12, 8))\n",
        "sns.heatmap(correlation_matrix, annot=True, cmap='coolwarm', fmt=\".2f\", linewidths=0.5)\n",
        "plt.title('Correlation Heatmap')\n",
        "plt.show()"
      ],
      "id": "58534d05",
      "execution_count": null,
      "outputs": []
    },
    {
      "cell_type": "code",
      "metadata": {},
      "source": [
        "pd.set_option('display.max_rows', None)\n",
        "pd.set_option('display.max_columns', None)"
      ],
      "id": "a209c708",
      "execution_count": null,
      "outputs": []
    },
    {
      "cell_type": "markdown",
      "metadata": {},
      "source": [
        "1.  Strong Positive Correlations:\n",
        "\n",
        "    -   `atemp` and `temp` have a near-perfect correlation (0.984948), indicating that these two temperature readings are almost interchangeable in this dataset.\n",
        "    -   `season` and `month` are also highly correlated (0.974737), which makes sense since seasons are a division of the year.\n",
        "    -   `registered` and `count` show a very high correlation (0.970948), suggesting that the majority of bike rentals are by registered users rather than casual ones.\n",
        "    -   `Weekday` and `workingday` are strongly correlated (0.934780), which likely indicates that `workingday` is derived from `Weekday`.\n",
        "\n",
        "2.  Moderate to High Positive Correlations:\n",
        "\n",
        "    -   The number of casual rentals has a significant but lesser correlation with `count` (0.690414) than registered rentals, indicating that casual rentals contribute to the total but are not the primary factor.\n",
        "    -   `registered` and `casual` show a moderate correlation (0.497250), meaning there is some relationship but not as strong, suggesting independent factors may affect these user types.\n",
        "    -   There's a moderate correlation between temperature (`temp`, `atemp`) and `casual` rentals (around 0.46), implying that warmer temperatures might lead to an increase in casual users renting bikes.\n",
        "\n",
        "3.  Weather and Environmental Factors:\n",
        "\n",
        "    -   `weather` and `humidity` have a positive correlation (0.406244), suggesting that adverse weather conditions are often associated with higher humidity levels.\n",
        "    -   `hour` and `count` have a moderate correlation (0.400601), which indicates that there are certain hours of the day that have consistently higher rental counts.\n",
        "\n",
        "4.  Low Positive Correlations:\n",
        "\n",
        "    -   Variables such as `temp`, `atemp`, `registered`, `hour`, `month`, `season`, `windspeed`, `year`, etc., have lower correlations with `count` ranging from 0.1 to 0.4. These correlations, while positive, are less pronounced, meaning these factors have some influence on rental counts, but it's not as significant.\n",
        "\n",
        "5.  Negative Correlations:\n",
        "\n",
        "    -   `holiday` has a small negative correlation with `count` (-0.005393), suggesting a slight decrease in rentals on holidays.\n",
        "    -   `weather` has a negative correlation with `count` (-0.128655), indicating that as weather conditions worsen (weather values increase), bike rentals decrease.\n",
        "    -   `humidity` shows a negative correlation with `count` (-0.317371), implying that higher humidity levels might deter bike rentals.\n",
        "\n",
        "6.  Strong Negative Correlations:\n",
        "\n",
        "    -   `humidity` is negatively correlated with `registered` (-0.265458) and `casual` (-0.348187) rentals. This suggests that as humidity increases, the number of both registered and casual rentals decreases.\n",
        "    -   `workingday` and `casual` have a strong negative correlation (-0.319111), indicating casual rentals are significantly lower on working days.\n",
        "\n",
        "7.  Insignificant or Very Low Correlations:\n",
        "\n",
        "    -   Variables such as `day`, `weather`, `workingday`, `holiday`, and various interactions with `year` show very low to negligible correlations (close to 0), suggesting no strong linear relationship with bike rental counts.\n"
      ],
      "id": "9358095a"
    },
    {
      "cell_type": "code",
      "metadata": {},
      "source": [
        "from scipy import stats\n",
        "\n",
        "# Define two groups: holiday and non-holiday\n",
        "holiday_counts = df[df['holiday'] == 1]['count']\n",
        "non_holiday_counts = df[df['holiday'] == 0]['count']\n",
        "\n",
        "# Perform a t-test\n",
        "t_statistic, p_value = stats.ttest_ind(holiday_counts, non_holiday_counts)\n",
        "\n",
        "# Check if the p-value is less than the significance level (e.g., 0.05)\n",
        "alpha = 0.05\n",
        "if p_value < alpha:\n",
        "    print(\"There is a significant difference in bike sharing counts between holidays and non-holidays.\")\n",
        "else:\n",
        "    print(\"There is no significant difference in bike sharing counts between holidays and non-holidays.\")"
      ],
      "id": "149a9c4e",
      "execution_count": null,
      "outputs": []
    },
    {
      "cell_type": "code",
      "metadata": {},
      "source": [
        "from scipy import stats\n",
        "import statsmodels.api as sm\n",
        "from statsmodels.formula.api import ols\n",
        "\n",
        "# Create a model for ANOVA\n",
        "model = ols('count ~ season', data=df).fit()\n",
        "\n",
        "# Perform ANOVA\n",
        "anova_table = sm.stats.anova_lm(model, typ=2)\n",
        "\n",
        "# Extract the p-value from the ANOVA results\n",
        "p_value = anova_table['PR(>F)'][0]\n",
        "\n",
        "# Check if the p-value is less than the significance level (e.g., 0.05)\n",
        "alpha = 0.05\n",
        "if p_value < alpha:\n",
        "    print(\"There is a significant difference in bike sharing counts across different seasons.\")\n",
        "else:\n",
        "    print(\"There is no significant difference in bike sharing counts across different seasons.\")"
      ],
      "id": "94c6131f",
      "execution_count": null,
      "outputs": []
    },
    {
      "cell_type": "code",
      "metadata": {},
      "source": [
        "df.columns"
      ],
      "id": "9c464dbb",
      "execution_count": null,
      "outputs": []
    },
    {
      "cell_type": "code",
      "metadata": {},
      "source": [
        "from sklearn.model_selection import train_test_split\n",
        "\n",
        "# Feature selection - choose relevant features for prediction\n",
        "selected_features = ['temp', 'atemp', 'humidity', 'windspeed', 'season', 'hour', 'Weekday', 'weather']\n",
        "\n",
        "X = df[selected_features]\n",
        "y = df['count']\n",
        "\n",
        "# Split the dataset into training and testing sets (e.g., 80% training, 20% testing)\n",
        "X_train, X_test, y_train, y_test = train_test_split(X, y, test_size=0.2, random_state=42)"
      ],
      "id": "67e097aa",
      "execution_count": null,
      "outputs": []
    },
    {
      "cell_type": "code",
      "metadata": {},
      "source": [
        "from sklearn.linear_model import LinearRegression\n",
        "from sklearn.metrics import mean_squared_error, r2_score\n",
        "\n",
        "# Create and fit a linear regression model\n",
        "lr_model = LinearRegression()\n",
        "lr_model.fit(X_train, y_train)\n",
        "\n",
        "# Make predictions\n",
        "y_pred = lr_model.predict(X_test)\n",
        "\n",
        "# Evaluate the model\n",
        "mse = mean_squared_error(y_test, y_pred)\n",
        "r2 = r2_score(y_test, y_pred)\n",
        "\n",
        "print(f'Mean Squared Error: {mse}')\n",
        "print(f'R-squared (R2): {r2}')\n",
        "\n",
        "# Analyze residuals (to check for patterns or biases)\n",
        "residuals = y_test - y_pred\n",
        "plt.scatter(y_pred, residuals)\n",
        "plt.xlabel('Predicted Values')\n",
        "plt.ylabel('Residuals')\n",
        "plt.title('Residual Plot')\n",
        "plt.axhline(y=0, color='r', linestyle='--')\n",
        "plt.show()"
      ],
      "id": "5b34c595",
      "execution_count": null,
      "outputs": []
    },
    {
      "cell_type": "code",
      "metadata": {},
      "source": [
        "from sklearn.ensemble import RandomForestRegressor\n",
        "\n",
        "# Create and fit a random forest model\n",
        "rf_model = RandomForestRegressor(n_estimators=100, random_state=42)\n",
        "rf_model.fit(X_train, y_train)\n",
        "\n",
        "# Make predictions\n",
        "y_pred_rf = rf_model.predict(X_test)\n",
        "\n",
        "# Evaluate the model\n",
        "mse_rf = mean_squared_error(y_test, y_pred_rf)\n",
        "r2_rf = r2_score(y_test, y_pred_rf)\n",
        "\n",
        "print(f'Mean Squared Error (Random Forest): {mse_rf}')\n",
        "print(f'R-squared (R2) (Random Forest): {r2_rf}')\n",
        "\n",
        "# Analyze residuals (to check for patterns or biases)\n",
        "residuals_rf = y_test - y_pred_rf\n",
        "plt.scatter(y_pred_rf, residuals_rf)\n",
        "plt.xlabel('Predicted Values (Random Forest)')\n",
        "plt.ylabel('Residuals (Random Forest)')\n",
        "plt.title('Residual Plot (Random Forest)')\n",
        "plt.axhline(y=0, color='r', linestyle='--')\n",
        "plt.show()"
      ],
      "id": "cca8177e",
      "execution_count": null,
      "outputs": []
    },
    {
      "cell_type": "code",
      "metadata": {},
      "source": [
        "# Make predictions on both training and testing sets\n",
        "y_train_pred = rf_model.predict(X_train)\n",
        "y_test_pred = rf_model.predict(X_test)\n",
        "\n",
        "# Calculate MSE and R-squared for in-sample (training set)\n",
        "mse_train = mean_squared_error(y_train, y_train_pred)\n",
        "r2_train = r2_score(y_train, y_train_pred)\n",
        "\n",
        "# Calculate MSE and R-squared for out-of-sample (testing set)\n",
        "mse_test = mean_squared_error(y_test, y_test_pred)\n",
        "r2_test = r2_score(y_test, y_test_pred)\n",
        "\n",
        "# Print the results\n",
        "print(\"In-sample MSE:\", mse_train)\n",
        "print(\"In-sample R-squared:\", r2_train)\n",
        "print(\"Out-of-sample MSE:\", mse_test)\n",
        "print(\"Out-of-sample R-squared:\", r2_test)"
      ],
      "id": "0a7495f8",
      "execution_count": null,
      "outputs": []
    },
    {
      "cell_type": "code",
      "metadata": {},
      "source": [
        "feature_importances = best_rf_model.feature_importances_\n",
        "feature_names = selected_features\n",
        "\n",
        "# Sort features by importance\n",
        "sorted_idx = np.argsort(feature_importances)\n",
        "feature_names_sorted = [feature_names[i] for i in sorted_idx]\n",
        "feature_importances_sorted = [feature_importances[i] for i in sorted_idx]\n",
        "\n",
        "# Create a bar plot of feature importances\n",
        "plt.barh(range(len(sorted_idx)), feature_importances_sorted, align='center')\n",
        "plt.yticks(range(len(sorted_idx)), feature_names_sorted)\n",
        "plt.xlabel(\"Feature Importance\")\n",
        "plt.ylabel(\"Feature\")\n",
        "plt.title(\"Feature Importance Plot\")\n",
        "plt.show()"
      ],
      "id": "2f1b2d8b",
      "execution_count": null,
      "outputs": []
    },
    {
      "cell_type": "code",
      "metadata": {},
      "source": [
        "from sklearn.model_selection import RandomizedSearchCV\n",
        "from sklearn.ensemble import RandomForestRegressor\n",
        "\n",
        "# Define the hyperparameter grid\n",
        "param_grid = {\n",
        "    'n_estimators': [100, 200, 300],\n",
        "    'max_depth': [None, 10, 20, 30],\n",
        "    'min_samples_split': [2, 5, 10],\n",
        "    'min_samples_leaf': [1, 2, 4],\n",
        "    'max_features': ['auto', 'sqrt', 'log2']\n",
        "}\n",
        "\n",
        "# Create the Random Forest Regressor model\n",
        "rf_model = RandomForestRegressor(random_state=42)\n",
        "\n",
        "# RandomizedSearchCV for hyperparameter tuning\n",
        "random_search = RandomizedSearchCV(\n",
        "    rf_model, param_distributions=param_grid, n_iter=100, cv=5, verbose=1, random_state=42, n_jobs=-1\n",
        ")\n",
        "\n",
        "# Fit the model to the data\n",
        "random_search.fit(X_train, y_train)\n",
        "\n",
        "# Get the best hyperparameters\n",
        "best_params = random_search.best_params_\n",
        "print(\"Best Hyperparameters:\", best_params)"
      ],
      "id": "0c1a2388",
      "execution_count": null,
      "outputs": []
    },
    {
      "cell_type": "code",
      "metadata": {},
      "source": [
        "# Create a new Random Forest model with the best hyperparameters\n",
        "best_rf_model = RandomForestRegressor(\n",
        "    n_estimators=best_params['n_estimators'],\n",
        "    max_depth=best_params['max_depth'],\n",
        "    min_samples_split=best_params['min_samples_split'],\n",
        "    min_samples_leaf=best_params['min_samples_leaf'],\n",
        "    max_features=best_params['max_features'],\n",
        "    random_state=42\n",
        ")\n",
        "\n",
        "# Train the model on the selected features\n",
        "best_rf_model.fit(X_train[selected_features], y_train)"
      ],
      "id": "cced92e4",
      "execution_count": null,
      "outputs": []
    },
    {
      "cell_type": "code",
      "metadata": {},
      "source": [
        "# Make predictions on both training and testing sets\n",
        "y_train_pred = best_rf_model.predict(X_train)\n",
        "y_test_pred = best_rf_model.predict(X_test)\n",
        "\n",
        "# Calculate MSE and R-squared for in-sample (training set)\n",
        "mse_train = mean_squared_error(y_train, y_train_pred)\n",
        "r2_train = r2_score(y_train, y_train_pred)\n",
        "\n",
        "# Calculate MSE and R-squared for out-of-sample (testing set)\n",
        "mse_test = mean_squared_error(y_test, y_test_pred)\n",
        "r2_test = r2_score(y_test, y_test_pred)\n",
        "\n",
        "# Print the results\n",
        "print(\"In-sample MSE:\", mse_train)\n",
        "print(\"In-sample R-squared:\", r2_train)\n",
        "print(\"Out-of-sample MSE:\", mse_test)\n",
        "print(\"Out-of-sample R-squared:\", r2_test)"
      ],
      "id": "697fda8e",
      "execution_count": null,
      "outputs": []
    }
  ],
  "metadata": {
    "kernelspec": {
      "name": "python3",
      "language": "python",
      "display_name": "Python 3 (ipykernel)"
    }
  },
  "nbformat": 4,
  "nbformat_minor": 5
}